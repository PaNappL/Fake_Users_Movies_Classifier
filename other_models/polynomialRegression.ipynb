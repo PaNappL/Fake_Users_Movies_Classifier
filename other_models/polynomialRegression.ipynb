{
 "cells": [
  {
   "cell_type": "code",
   "execution_count": null,
   "metadata": {},
   "outputs": [],
   "source": [
    "import sys\n",
    "\n",
    "# Select path to current folder and split by \\\\\n",
    "main_path = sys.path[0].split(\"\\\\\")\n",
    "\n",
    "# Asssign path to parent folder\n",
    "# path_to_parent allows access to any folder from within parent folder, no matter the location of this file within the parent folder\n",
    "# i.e.: Don't need to specify \"../\" x amount of times\n",
    "path_to_parent = []\n",
    "for element in main_path:\n",
    "    path_to_parent.append(element)\n",
    "    if \"Fake_Users_Movies_Classifier\" == element:\n",
    "        break\n",
    "\n",
    "path_to_parent = \"\\\\\".join(path_to_parent)\n",
    "\n",
    "# Add path to feature generation folder\n",
    "sys.path.append(path_to_parent+\"\\\\feature_generation\")"
   ]
  },
  {
   "cell_type": "code",
   "execution_count": null,
   "metadata": {},
   "outputs": [],
   "source": [
    "# Import feature generator for week 1\n",
    "from feature_gen_wk1 import feature_gen\n",
    "\n",
    "# Create string path to labelled data\n",
    "path_to_file = path_to_parent + \"/data/labelled_data/first_batch_with_labels_likes.npz\"\n",
    "# Generate features from file\n",
    "df_final = feature_gen().retrieveAndGenerate(path_to_file)"
   ]
  },
  {
   "cell_type": "code",
   "execution_count": null,
   "id": "f8a6b733",
   "metadata": {},
   "outputs": [],
   "source": [
    "from sklearn.linear_model import LogisticRegression\n",
    "from sklearn.preprocessing import PolynomialFeatures\n",
    "from sklearn.preprocessing import StandardScaler\n",
    "from sklearn.model_selection import train_test_split\n",
    "from sklearn.metrics import precision_score, recall_score, f1_score, roc_auc_score\n",
    "\n",
    "\n",
    "# Retrieve labels and assign to y\n",
    "y = df_final['label']\n",
    "# Remove labels and users from dataset and assign to x\n",
    "X = df_final.drop(['user','label'],axis=1)\n",
    "\n",
    "# Splitting the data into training and validation sets\n",
    "X_train, X_val, Y_train, Y_val = train_test_split(X, y, test_size=0.2, random_state=42)\n",
    "\n",
    "# Apply scaler on train and validation sets\n",
    "scaler = StandardScaler()\n",
    "X_train = scaler.fit_transform(X_train)\n",
    "X_val = scaler.transform(X_val)\n",
    "\n",
    "# Set the amount of polynomial features\n",
    "pol_ftrs = 4\n",
    "\n",
    "# Initialize Logistic Regression and Polynomial Features\n",
    "lr = LogisticRegression(solver=\"saga\", max_iter=1000000, penalty='l2', tol=1e-5)\n",
    "pol_feat = PolynomialFeatures(pol_ftrs, interaction_only=True)\n",
    "\n",
    "# Create polynomial features from train and validation data\n",
    "X2_train, X2_val = pol_feat.fit_transform(X_train), pol_feat.fit_transform(X_val)\n",
    "\n",
    "# Train logistic regression using train set\n",
    "lr.fit(X2_train, Y_train)\n",
    "# Predict validation set labels\n",
    "polreg_preds = lr.predict(X2_val)\n",
    "\n",
    "# Predicting probabilities for the validation set\n",
    "polreg_auc = roc_auc_score(Y_val, polreg_preds)\n",
    "\n",
    "# Calculate precision, recall and f1 scores\n",
    "precision = precision_score(Y_val, polreg_preds)\n",
    "recall = recall_score(Y_val, polreg_preds)\n",
    "f1 = f1_score(Y_val, polreg_preds)\n",
    "\n",
    "# Printing the results\n",
    "print(\"AUC:\", polreg_auc)\n",
    "print(\"Precision:\", precision)\n",
    "print(\"Recall:\", recall)\n",
    "print(\"F1:\", f1)"
   ]
  },
  {
   "cell_type": "code",
   "execution_count": null,
   "metadata": {},
   "outputs": [],
   "source": []
  }
 ],
 "metadata": {
  "kernelspec": {
   "display_name": "Python 3 (ipykernel)",
   "language": "python",
   "name": "python3"
  },
  "language_info": {
   "codemirror_mode": {
    "name": "ipython",
    "version": 3
   },
   "file_extension": ".py",
   "mimetype": "text/x-python",
   "name": "python",
   "nbconvert_exporter": "python",
   "pygments_lexer": "ipython3",
   "version": "3.10.13"
  }
 },
 "nbformat": 4,
 "nbformat_minor": 5
}
