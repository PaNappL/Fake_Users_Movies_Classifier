{
 "cells": [
  {
   "cell_type": "code",
   "execution_count": null,
   "metadata": {},
   "outputs": [],
   "source": [
    "import sys\n",
    "\n",
    "# Select path to current folder and split by \\\\\n",
    "main_path = sys.path[0].split(\"\\\\\")\n",
    "\n",
    "# Asssign path to parent folder\n",
    "# path_to_parent allows access to any folder from within parent folder, no matter the location of this file within the parent folder\n",
    "# i.e.: Don't need to specify \"../\" x amount of times\n",
    "path_to_parent = []\n",
    "for element in main_path:\n",
    "    path_to_parent.append(element)\n",
    "    if \"Fake_Users_Movies_Classifier\" == element:\n",
    "        break\n",
    "\n",
    "path_to_parent = \"\\\\\".join(path_to_parent)\n",
    "\n",
    "# Add path to feature generation folder\n",
    "sys.path.append(path_to_parent+\"\\\\feature_generation\")"
   ]
  },
  {
   "cell_type": "code",
   "execution_count": null,
   "metadata": {},
   "outputs": [],
   "source": [
    "# Import feature generator for week 1\n",
    "from feature_gen_wk1 import feature_gen\n",
    "\n",
    "# Create string path to labelled data\n",
    "path_to_file = path_to_parent + \"/labelled_data/first_batch_with_labels_likes.npz\"\n",
    "# Generate features from file\n",
    "df_final = feature_gen().retrieveAndGenerate(path_to_file)"
   ]
  },
  {
   "cell_type": "code",
   "execution_count": null,
   "id": "ebe5da20",
   "metadata": {},
   "outputs": [],
   "source": [
    "from sklearn.model_selection import train_test_split\n",
    "from sklearn.preprocessing import StandardScaler\n",
    "from sklearn.linear_model import LogisticRegression\n",
    "from sklearn.metrics import roc_auc_score\n",
    "from sklearn.metrics import precision_score\n",
    "from sklearn.metrics import recall_score\n",
    "from sklearn.metrics import f1_score\n",
    "\n",
    "# Retrieve labels and assign to y\n",
    "y = df_final['label']\n",
    "# Remove labels and users from dataset and assign to x\n",
    "X = df_final.drop(['user','label'],axis=1)\n",
    "\n",
    "# Splitting the data into training and validation sets\n",
    "X_train, X_val, y_train, y_val = train_test_split(\n",
    "    X, y, test_size=0.2, random_state=42, stratify=y)\n",
    "\n",
    "# Scaling the features\n",
    "scaler = StandardScaler()\n",
    "X_train_scaled = scaler.fit_transform(X_train)\n",
    "X_val_scaled = scaler.transform(X_val)\n",
    "\n",
    "# Initialize and train a logistic regression model\n",
    "logreg = LogisticRegression(max_iter=1000, random_state=42, solver='newton-cg', penalty='l2', C=10, class_weight={1:1, 0:1.1})\n",
    "logreg.fit(X_train_scaled, y_train)\n",
    "\n",
    "# Predicting probabilities for the validation set\n",
    "logreg_probs = logreg.predict_proba(X_val_scaled)[:, 1]\n",
    "logreg_auc = roc_auc_score(y_val, logreg_probs)\n",
    "\n",
    "# Calculate precision, recall and f1 scores\n",
    "precision = precision_score(y_val, logreg.predict(X_val_scaled))\n",
    "recall = recall_score(y_val, logreg.predict(X_val_scaled))\n",
    "f1 = f1_score(y_val, logreg.predict(X_val_scaled))\n",
    "\n",
    "# Printing the results\n",
    "print(\"AUC:\", logreg_auc)\n",
    "print(\"Precision:\", precision)\n",
    "print(\"Recall:\", recall)\n",
    "print(\"F1:\", f1)"
   ]
  }
 ],
 "metadata": {
  "kernelspec": {
   "display_name": "Python 3 (ipykernel)",
   "language": "python",
   "name": "python3"
  },
  "language_info": {
   "codemirror_mode": {
    "name": "ipython",
    "version": 3
   },
   "file_extension": ".py",
   "mimetype": "text/x-python",
   "name": "python",
   "nbconvert_exporter": "python",
   "pygments_lexer": "ipython3",
   "version": "3.10.13"
  }
 },
 "nbformat": 4,
 "nbformat_minor": 5
}
