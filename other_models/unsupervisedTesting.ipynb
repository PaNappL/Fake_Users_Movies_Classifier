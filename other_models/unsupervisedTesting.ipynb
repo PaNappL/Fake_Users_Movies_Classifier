{
 "cells": [
  {
   "cell_type": "code",
   "execution_count": null,
   "metadata": {},
   "outputs": [],
   "source": [
    "import sys\n",
    "\n",
    "# Select path to current folder and split by \\\\\n",
    "main_path = sys.path[0].split(\"\\\\\")\n",
    "\n",
    "# Asssign path to parent folder\n",
    "# path_to_parent allows access to any folder from within parent folder, no matter the location of this file within the parent folder\n",
    "# i.e.: Don't need to specify \"../\" x amount of times\n",
    "path_to_parent = []\n",
    "for element in main_path:\n",
    "    path_to_parent.append(element)\n",
    "    if \"Fake_Users_Movies_Classifier\" == element:\n",
    "        break\n",
    "\n",
    "path_to_parent = \"\\\\\".join(path_to_parent)\n",
    "\n",
    "# Add path to feature generation folder\n",
    "sys.path.append(path_to_parent+\"\\\\feature_generation\")"
   ]
  },
  {
   "cell_type": "code",
   "execution_count": null,
   "metadata": {},
   "outputs": [],
   "source": [
    "# Import feature generator for week 2\n",
    "from feature_gen_wk2 import feature_gen\n",
    "import pandas as pd\n",
    "\n",
    "# Create string path to labelled data\n",
    "path_to_file1 = path_to_parent + \"/data/labelled_data/first_batch_with_labels_likes.npz\"\n",
    "path_to_file2 = path_to_parent + \"/data/labelled_data/second_batch_with_labels_likes.npz\"\n",
    "\n",
    "# Generate features from file\n",
    "df1 = feature_gen().retrieveAndGenerate(path_to_file1)\n",
    "df2 = feature_gen().retrieveAndGenerate(path_to_file2)\n",
    "\n",
    "df_final = pd.concat([df1,df2]).reset_index(drop=True)"
   ]
  },
  {
   "cell_type": "code",
   "execution_count": null,
   "metadata": {},
   "outputs": [],
   "source": [
    "from sklearn.svm import OneClassSVM\n",
    "from sklearn.cluster import DBSCAN, KMeans\n",
    "from sklearn.preprocessing import StandardScaler\n",
    "\n",
    "# Retrieve labels and assign to y\n",
    "y = df_final['label']\n",
    "# Remove labels and users from dataset and assign to x\n",
    "X = df_final.drop(['user','label'],axis=1)\n",
    "\n",
    "# Apply scaler on X\n",
    "X = StandardScaler().fit_transform(X)\n",
    "\n",
    "# Define unsupervised classifiers and fit to X\n",
    "ocSVM = OneClassSVM(gamma='auto', kernel='rbf').fit(X)\n",
    "ocSVMLIN = OneClassSVM(gamma='auto', kernel='linear').fit(X)\n",
    "kmeans = KMeans(n_clusters=2, n_init=10).fit(X)\n",
    "dbs = DBSCAN(eps=4, min_samples=4)\n",
    "\n",
    "# Predict labels using each classifier for X\n",
    "ocSVMpred = ocSVM.predict(X)\n",
    "ocSVMLINpred = ocSVMLIN.predict(X)\n",
    "kmeanspred = kmeans.predict(X)\n",
    "dbspred = dbs.fit_predict(X)"
   ]
  },
  {
   "cell_type": "code",
   "execution_count": null,
   "metadata": {},
   "outputs": [],
   "source": [
    "# Change labels of predictions to correct format\n",
    "ocSVMpred[ocSVMpred == -1] = 0\n",
    "ocSVMLINpred[ocSVMLINpred == -1] = 0\n",
    "dbspred[dbspred == 0] = 1\n",
    "dbspred[dbspred == -1] = 0"
   ]
  },
  {
   "cell_type": "code",
   "execution_count": null,
   "metadata": {},
   "outputs": [],
   "source": [
    "# Load class with getScores function for calulating predictions scores\n",
    "from feature_selection import selectors\n",
    "\n",
    "# Print scores for each classifier predictionss\n",
    "print(f\"One Class SVM: {selectors.getScores(true=y, pred=ocSVMpred)}\")\n",
    "print(f\"One Class SVM Linear: {selectors.getScores(true=y, pred=ocSVMLINpred)}\")\n",
    "print(f\"KMeans: {selectors.getScores(true=y, pred=kmeanspred)}\")\n",
    "print(f\"DBSCAN: {selectors.getScores(true=y, pred=dbspred)}\")"
   ]
  }
 ],
 "metadata": {
  "kernelspec": {
   "display_name": "cs421",
   "language": "python",
   "name": "python3"
  },
  "language_info": {
   "codemirror_mode": {
    "name": "ipython",
    "version": 3
   },
   "file_extension": ".py",
   "mimetype": "text/x-python",
   "name": "python",
   "nbconvert_exporter": "python",
   "pygments_lexer": "ipython3",
   "version": "3.10.13"
  }
 },
 "nbformat": 4,
 "nbformat_minor": 2
}
