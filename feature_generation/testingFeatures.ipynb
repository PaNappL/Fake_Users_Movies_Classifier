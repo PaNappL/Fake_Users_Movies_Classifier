{
 "cells": [
  {
   "cell_type": "code",
   "execution_count": 1,
   "metadata": {},
   "outputs": [],
   "source": [
    "from datasetStuff import expandDataset\n",
    "import pandas as pd\n",
    "import numpy as np\n",
    "from sklearn.preprocessing import StandardScaler"
   ]
  },
  {
   "cell_type": "code",
   "execution_count": 2,
   "metadata": {},
   "outputs": [],
   "source": [
    "def simpleDataRetrieval(data) -> pd.DataFrame:\n",
    "        X=data[\"X\"]\n",
    "        XX=pd.DataFrame(X)\n",
    "        XX.rename(columns={0:\"user\",1:\"item\",2:\"rating\"},inplace=True)\n",
    "\n",
    "        try:\n",
    "            y=data[\"y\"]\n",
    "            yy=pd.DataFrame(y)\n",
    "            yy.rename(columns={0:\"user\",1:\"label\"},inplace=True)\n",
    "        except:\n",
    "            yy = None\n",
    "            \n",
    "        return XX, yy"
   ]
  },
  {
   "cell_type": "code",
   "execution_count": 3,
   "metadata": {},
   "outputs": [],
   "source": [
    "data=np.load(\"first_batch_with_labels_likes.npz\")\n",
    "data2 = np.load(\"second_batch_with_labels_likes.npz\")\n",
    "df, labels = simpleDataRetrieval(data)\n",
    "df2, labels2 = simpleDataRetrieval(data2)"
   ]
  },
  {
   "cell_type": "code",
   "execution_count": 4,
   "metadata": {},
   "outputs": [],
   "source": [
    "df = pd.concat([df,df2]).reset_index(drop=True)\n",
    "labels = pd.concat([labels,labels2]).reset_index(drop=True)"
   ]
  },
  {
   "cell_type": "code",
   "execution_count": 5,
   "metadata": {},
   "outputs": [],
   "source": [
    "class stuff:\n",
    "    def __init__(self):\n",
    "        return\n",
    "    \n",
    "    def doStuff(self, df):\n",
    "        XX = df.sort_values(by=[\"item\"], ascending=True)\n",
    "        XX = XX.drop(['user'],axis=1)\n",
    "        XX = XX.groupby(by='item').aggregate('mean')\n",
    "\n",
    "        a = []\n",
    "        for i in df['user'].unique():\n",
    "            items = list(df.sort_values(by='item')['item'].loc[df['user']==i])\n",
    "            av_diff=0\n",
    "            for j in range(0,len(items)-1):\n",
    "                diff = items[j+1]-items[j]\n",
    "                av_diff += diff\n",
    "            av_diff /= len(items)\n",
    "            item_comp = {'user':i,'items_diff':av_diff}\n",
    "            a.append(item_comp)\n",
    "        user_items_diff = pd.DataFrame(a)\n",
    "        user_items_diff = user_items_diff.sort_values(by='user').reset_index(drop=True)\n",
    "\n",
    "        f = lambda row: -1 if row < -0.5 else 0\n",
    "        XX['mode'] = XX['rating'].apply(lambda row: 1 if row > 0.5 else f(row))\n",
    "\n",
    "        user_item_comp = []\n",
    "        for i in df['user'].unique():\n",
    "            user_df = df.loc[df['user']==i]\n",
    "            item_comp = {'user':i,'modal_ratings':0,'non_modal_ratings':0,'rating_diff':[]}\n",
    "            for j in user_df['item']:\n",
    "                user_rating = user_df['rating'].loc[user_df['item']==j].iloc[0]\n",
    "                item_mode = XX['mode'][j]\n",
    "\n",
    "                if user_rating == item_mode:\n",
    "                    item_comp['modal_ratings'] += 1\n",
    "                else:\n",
    "                    item_comp['non_modal_ratings'] += 1\n",
    "\n",
    "                item_comp['rating_diff'].append(abs(item_mode-user_rating))\n",
    "            user_item_comp.append(item_comp)\n",
    "\n",
    "        df_new = pd.DataFrame(user_item_comp).sort_values(by='user').reset_index(drop=True)\n",
    "        df_new['diff_std'] = df_new['rating_diff'].apply(lambda row: np.std(row))\n",
    "        df_new['diff_mean'] = df_new['rating_diff'].apply(lambda row: np.mean(row))\n",
    "\n",
    "        mode_ratings_diff = []\n",
    "        for index,row in df_new.iterrows():\n",
    "            x = row['modal_ratings']\n",
    "            y = row['non_modal_ratings']\n",
    "            diff = min(x,y)/max(x,y)\n",
    "            mode_ratings_diff.append(diff)\n",
    "        df_new['mode_ratings_diff'] = mode_ratings_diff\n",
    "        df_new = df_new.sort_values(by='user').reset_index(drop=True)\n",
    "        df_new = df_new.join(user_items_diff['items_diff'])\n",
    "\n",
    "        return df_new\n"
   ]
  },
  {
   "cell_type": "code",
   "execution_count": 6,
   "metadata": {},
   "outputs": [],
   "source": [
    "xy = stuff().doStuff(df)\n",
    "# df_scaled = StandardScaler().fit_transform(xy)\n",
    "# df_scaled = pd.DataFrame(df_scaled, columns=xy.columns)"
   ]
  },
  {
   "cell_type": "code",
   "execution_count": 7,
   "metadata": {},
   "outputs": [
    {
     "data": {
      "text/html": [
       "<div>\n",
       "<style scoped>\n",
       "    .dataframe tbody tr th:only-of-type {\n",
       "        vertical-align: middle;\n",
       "    }\n",
       "\n",
       "    .dataframe tbody tr th {\n",
       "        vertical-align: top;\n",
       "    }\n",
       "\n",
       "    .dataframe thead th {\n",
       "        text-align: right;\n",
       "    }\n",
       "</style>\n",
       "<table border=\"1\" class=\"dataframe\">\n",
       "  <thead>\n",
       "    <tr style=\"text-align: right;\">\n",
       "      <th></th>\n",
       "      <th>user</th>\n",
       "      <th>modal_ratings</th>\n",
       "      <th>non_modal_ratings</th>\n",
       "      <th>rating_diff</th>\n",
       "      <th>diff_std</th>\n",
       "      <th>diff_mean</th>\n",
       "      <th>mode_ratings_diff</th>\n",
       "      <th>items_diff</th>\n",
       "    </tr>\n",
       "  </thead>\n",
       "  <tbody>\n",
       "    <tr>\n",
       "      <th>0</th>\n",
       "      <td>0</td>\n",
       "      <td>47</td>\n",
       "      <td>70</td>\n",
       "      <td>[1, 0, 1, 0, 1, 0, 0, 1, 0, 0, 1, 0, 0, 0, 2, ...</td>\n",
       "      <td>0.534718</td>\n",
       "      <td>0.623932</td>\n",
       "      <td>0.671429</td>\n",
       "      <td>8.188034</td>\n",
       "    </tr>\n",
       "    <tr>\n",
       "      <th>1</th>\n",
       "      <td>1</td>\n",
       "      <td>12</td>\n",
       "      <td>15</td>\n",
       "      <td>[1, 1, 0, 1, 1, 0, 0, 0, 1, 1, 0, 1, 0, 1, 0, ...</td>\n",
       "      <td>0.496904</td>\n",
       "      <td>0.555556</td>\n",
       "      <td>0.800000</td>\n",
       "      <td>4.407407</td>\n",
       "    </tr>\n",
       "    <tr>\n",
       "      <th>2</th>\n",
       "      <td>2</td>\n",
       "      <td>61</td>\n",
       "      <td>106</td>\n",
       "      <td>[2, 1, 1, 0, 0, 1, 1, 1, 1, 2, 0, 1, 1, 0, 2, ...</td>\n",
       "      <td>0.658519</td>\n",
       "      <td>0.760479</td>\n",
       "      <td>0.575472</td>\n",
       "      <td>5.892216</td>\n",
       "    </tr>\n",
       "    <tr>\n",
       "      <th>3</th>\n",
       "      <td>3</td>\n",
       "      <td>35</td>\n",
       "      <td>71</td>\n",
       "      <td>[1, 1, 0, 1, 1, 0, 1, 1, 1, 0, 0, 0, 0, 0, 0, ...</td>\n",
       "      <td>0.470281</td>\n",
       "      <td>0.669811</td>\n",
       "      <td>0.492958</td>\n",
       "      <td>8.792453</td>\n",
       "    </tr>\n",
       "    <tr>\n",
       "      <th>4</th>\n",
       "      <td>4</td>\n",
       "      <td>54</td>\n",
       "      <td>46</td>\n",
       "      <td>[1, 0, 0, 0, 1, 1, 0, 1, 0, 1, 0, 0, 1, 0, 0, ...</td>\n",
       "      <td>0.498397</td>\n",
       "      <td>0.460000</td>\n",
       "      <td>0.851852</td>\n",
       "      <td>8.730000</td>\n",
       "    </tr>\n",
       "    <tr>\n",
       "      <th>...</th>\n",
       "      <td>...</td>\n",
       "      <td>...</td>\n",
       "      <td>...</td>\n",
       "      <td>...</td>\n",
       "      <td>...</td>\n",
       "      <td>...</td>\n",
       "      <td>...</td>\n",
       "      <td>...</td>\n",
       "    </tr>\n",
       "    <tr>\n",
       "      <th>2595</th>\n",
       "      <td>2595</td>\n",
       "      <td>65</td>\n",
       "      <td>55</td>\n",
       "      <td>[2, 1, 0, 1, 1, 1, 0, 0, 1, 1, 2, 1, 1, 1, 0, ...</td>\n",
       "      <td>0.562670</td>\n",
       "      <td>0.491667</td>\n",
       "      <td>0.846154</td>\n",
       "      <td>6.716667</td>\n",
       "    </tr>\n",
       "    <tr>\n",
       "      <th>2596</th>\n",
       "      <td>2596</td>\n",
       "      <td>157</td>\n",
       "      <td>105</td>\n",
       "      <td>[1, 0, 0, 1, 1, 0, 0, 0, 0, 1, 0, 0, 1, 1, 0, ...</td>\n",
       "      <td>0.490053</td>\n",
       "      <td>0.400763</td>\n",
       "      <td>0.668790</td>\n",
       "      <td>3.755725</td>\n",
       "    </tr>\n",
       "    <tr>\n",
       "      <th>2597</th>\n",
       "      <td>2597</td>\n",
       "      <td>73</td>\n",
       "      <td>112</td>\n",
       "      <td>[1, 0, 0, 0, 0, 1, 0, 0, 0, 1, 0, 1, 0, 1, 0, ...</td>\n",
       "      <td>0.517340</td>\n",
       "      <td>0.621622</td>\n",
       "      <td>0.651786</td>\n",
       "      <td>5.318919</td>\n",
       "    </tr>\n",
       "    <tr>\n",
       "      <th>2598</th>\n",
       "      <td>2598</td>\n",
       "      <td>190</td>\n",
       "      <td>220</td>\n",
       "      <td>[1, 0, 0, 0, 1, 0, 0, 0, 0, 1, 0, 1, 0, 1, 0, ...</td>\n",
       "      <td>0.521546</td>\n",
       "      <td>0.548780</td>\n",
       "      <td>0.863636</td>\n",
       "      <td>2.434146</td>\n",
       "    </tr>\n",
       "    <tr>\n",
       "      <th>2599</th>\n",
       "      <td>2599</td>\n",
       "      <td>47</td>\n",
       "      <td>49</td>\n",
       "      <td>[0, 2, 0, 0, 1, 1, 0, 0, 0, 0, 0, 0, 0, 0, 0, ...</td>\n",
       "      <td>0.653184</td>\n",
       "      <td>0.604167</td>\n",
       "      <td>0.959184</td>\n",
       "      <td>9.989583</td>\n",
       "    </tr>\n",
       "  </tbody>\n",
       "</table>\n",
       "<p>2600 rows × 8 columns</p>\n",
       "</div>"
      ],
      "text/plain": [
       "      user  modal_ratings  non_modal_ratings  \\\n",
       "0        0             47                 70   \n",
       "1        1             12                 15   \n",
       "2        2             61                106   \n",
       "3        3             35                 71   \n",
       "4        4             54                 46   \n",
       "...    ...            ...                ...   \n",
       "2595  2595             65                 55   \n",
       "2596  2596            157                105   \n",
       "2597  2597             73                112   \n",
       "2598  2598            190                220   \n",
       "2599  2599             47                 49   \n",
       "\n",
       "                                            rating_diff  diff_std  diff_mean  \\\n",
       "0     [1, 0, 1, 0, 1, 0, 0, 1, 0, 0, 1, 0, 0, 0, 2, ...  0.534718   0.623932   \n",
       "1     [1, 1, 0, 1, 1, 0, 0, 0, 1, 1, 0, 1, 0, 1, 0, ...  0.496904   0.555556   \n",
       "2     [2, 1, 1, 0, 0, 1, 1, 1, 1, 2, 0, 1, 1, 0, 2, ...  0.658519   0.760479   \n",
       "3     [1, 1, 0, 1, 1, 0, 1, 1, 1, 0, 0, 0, 0, 0, 0, ...  0.470281   0.669811   \n",
       "4     [1, 0, 0, 0, 1, 1, 0, 1, 0, 1, 0, 0, 1, 0, 0, ...  0.498397   0.460000   \n",
       "...                                                 ...       ...        ...   \n",
       "2595  [2, 1, 0, 1, 1, 1, 0, 0, 1, 1, 2, 1, 1, 1, 0, ...  0.562670   0.491667   \n",
       "2596  [1, 0, 0, 1, 1, 0, 0, 0, 0, 1, 0, 0, 1, 1, 0, ...  0.490053   0.400763   \n",
       "2597  [1, 0, 0, 0, 0, 1, 0, 0, 0, 1, 0, 1, 0, 1, 0, ...  0.517340   0.621622   \n",
       "2598  [1, 0, 0, 0, 1, 0, 0, 0, 0, 1, 0, 1, 0, 1, 0, ...  0.521546   0.548780   \n",
       "2599  [0, 2, 0, 0, 1, 1, 0, 0, 0, 0, 0, 0, 0, 0, 0, ...  0.653184   0.604167   \n",
       "\n",
       "      mode_ratings_diff  items_diff  \n",
       "0              0.671429    8.188034  \n",
       "1              0.800000    4.407407  \n",
       "2              0.575472    5.892216  \n",
       "3              0.492958    8.792453  \n",
       "4              0.851852    8.730000  \n",
       "...                 ...         ...  \n",
       "2595           0.846154    6.716667  \n",
       "2596           0.668790    3.755725  \n",
       "2597           0.651786    5.318919  \n",
       "2598           0.863636    2.434146  \n",
       "2599           0.959184    9.989583  \n",
       "\n",
       "[2600 rows x 8 columns]"
      ]
     },
     "execution_count": 7,
     "metadata": {},
     "output_type": "execute_result"
    }
   ],
   "source": [
    "xy"
   ]
  },
  {
   "cell_type": "code",
   "execution_count": 8,
   "metadata": {},
   "outputs": [],
   "source": [
    "to_scale = xy.drop(['rating_diff','user'],axis=1)"
   ]
  },
  {
   "cell_type": "code",
   "execution_count": 9,
   "metadata": {},
   "outputs": [],
   "source": [
    "df_scaled = StandardScaler().fit_transform(to_scale)\n",
    "df_scaled = pd.DataFrame(df_scaled, columns=to_scale.columns)"
   ]
  },
  {
   "cell_type": "code",
   "execution_count": 10,
   "metadata": {},
   "outputs": [],
   "source": [
    "fakes = df_scaled.loc[labels['label']==1]\n",
    "non_fakes = df_scaled.loc[labels['label']==0]"
   ]
  },
  {
   "cell_type": "code",
   "execution_count": 11,
   "metadata": {},
   "outputs": [],
   "source": [
    "fake_outliers = pd.DataFrame()\n",
    "non_fake_outliers = pd.DataFrame()\n",
    "\n",
    "for column in fakes.columns:\n",
    "    Q1 = fakes[column].quantile(0.25)\n",
    "    Q3 = fakes[column].quantile(0.75)\n",
    "    IQR = Q3 - Q1\n",
    "\n",
    "    lower_bound = Q1 - 1.5 * IQR\n",
    "    upper_bound = Q3 + 1.5 * IQR\n",
    "\n",
    "    outlier_rows = fakes.loc[(fakes[column] < lower_bound) | (fakes[column] > upper_bound)]\n",
    "    fake_outliers = pd.concat([fake_outliers,outlier_rows])\n",
    "\n",
    "for column in non_fakes.columns:\n",
    "    Q1 = non_fakes[column].quantile(0.25)\n",
    "    Q3 = non_fakes[column].quantile(0.75)\n",
    "    IQR = Q3 - Q1\n",
    "\n",
    "    lower_bound = Q1 - 1.5 * IQR\n",
    "    upper_bound = Q3 + 1.5 * IQR\n",
    "\n",
    "    outlier_rows = non_fakes.loc[(non_fakes[column] < lower_bound) | (non_fakes[column] > upper_bound)]\n",
    "    non_fake_outliers = pd.concat([non_fake_outliers,outlier_rows])"
   ]
  },
  {
   "cell_type": "code",
   "execution_count": 12,
   "metadata": {},
   "outputs": [],
   "source": [
    "indexes_to_remove = list(fake_outliers.index)+list(non_fake_outliers.index)"
   ]
  },
  {
   "cell_type": "code",
   "execution_count": 13,
   "metadata": {},
   "outputs": [],
   "source": [
    "xy = xy.drop(indexes_to_remove)\n",
    "labels_new = labels.drop(indexes_to_remove)"
   ]
  },
  {
   "cell_type": "code",
   "execution_count": 14,
   "metadata": {},
   "outputs": [],
   "source": [
    "xy = xy.reset_index()"
   ]
  },
  {
   "cell_type": "code",
   "execution_count": 15,
   "metadata": {},
   "outputs": [],
   "source": [
    "xy.to_csv(\"./csv_files/f+s_item_features_no_outliers.csv\")"
   ]
  },
  {
   "cell_type": "code",
   "execution_count": 17,
   "metadata": {},
   "outputs": [],
   "source": [
    "df_scaled = StandardScaler().fit_transform(xy)\n",
    "df_scaled = pd.DataFrame(df_scaled, columns=xy.columns)"
   ]
  },
  {
   "cell_type": "code",
   "execution_count": 18,
   "metadata": {},
   "outputs": [],
   "source": [
    "fakes = df_scaled.loc[labels['label']==1]\n",
    "non_fakes = df_scaled.loc[labels['label']==0]"
   ]
  },
  {
   "cell_type": "code",
   "execution_count": 145,
   "metadata": {},
   "outputs": [],
   "source": [
    "from sklearn.linear_model import LogisticRegression\n",
    "from sklearn.model_selection import train_test_split\n",
    "from datasetStuff import assessFeatures\n",
    "\n",
    "xy_labels = list(labels_new['label'])\n",
    "\n",
    "assessor = assessFeatures(xy,xy_labels)\n",
    "X_train, X_val, Y_train, Y_val = train_test_split(xy, xy_labels, test_size=0.2, random_state=42)\n",
    "\n",
    "# scaler = StandardScaler()\n",
    "# X_train = scaler.fit_transform(X_train)\n",
    "# X_val = scaler.transform(X_val)\n",
    "\n",
    "# lr = LogisticRegression(solver=\"saga\", max_iter=1000000, penalty='l2', tol=1e-5)\n",
    "lr = LogisticRegression()\n",
    "lr.fit(X_train, Y_train)\n",
    "y_pred = lr.predict(X_val)"
   ]
  },
  {
   "cell_type": "code",
   "execution_count": 285,
   "metadata": {},
   "outputs": [
    {
     "data": {
      "text/plain": [
       "{'AUC': 0.6584040747028862,\n",
       " 'f1': 0.42379182156133827,\n",
       " 'recall': 1.0,\n",
       " 'precision': 0.2688679245283019}"
      ]
     },
     "execution_count": 285,
     "metadata": {},
     "output_type": "execute_result"
    }
   ],
   "source": [
    "assessor.getScores(Y_val, y_pred)"
   ]
  },
  {
   "cell_type": "code",
   "execution_count": 383,
   "metadata": {},
   "outputs": [],
   "source": [
    "X_train = StandardScaler().fit_transform(xy)"
   ]
  },
  {
   "cell_type": "code",
   "execution_count": 386,
   "metadata": {},
   "outputs": [
    {
     "name": "stdout",
     "output_type": "stream",
     "text": [
      "hi\n"
     ]
    }
   ],
   "source": [
    "print(\"hi\")"
   ]
  },
  {
   "cell_type": "code",
   "execution_count": null,
   "metadata": {},
   "outputs": [],
   "source": []
  },
  {
   "cell_type": "code",
   "execution_count": 19,
   "metadata": {},
   "outputs": [
    {
     "name": "stdout",
     "output_type": "stream",
     "text": [
      "Epoch 1/100\n",
      "34/34 [==============================] - 1s 3ms/step - loss: 1.2173\n",
      "Epoch 2/100\n",
      "34/34 [==============================] - 0s 3ms/step - loss: 1.1761\n",
      "Epoch 3/100\n",
      "34/34 [==============================] - 0s 2ms/step - loss: 1.1362\n",
      "Epoch 4/100\n",
      "34/34 [==============================] - 0s 3ms/step - loss: 1.0961\n",
      "Epoch 5/100\n",
      "34/34 [==============================] - 0s 3ms/step - loss: 1.0561\n",
      "Epoch 6/100\n",
      "34/34 [==============================] - 0s 3ms/step - loss: 1.0162\n",
      "Epoch 7/100\n",
      "34/34 [==============================] - 0s 3ms/step - loss: 0.9770\n",
      "Epoch 8/100\n",
      "34/34 [==============================] - 0s 3ms/step - loss: 0.9398\n",
      "Epoch 9/100\n",
      "34/34 [==============================] - 0s 3ms/step - loss: 0.9048\n",
      "Epoch 10/100\n",
      "34/34 [==============================] - 0s 2ms/step - loss: 0.8720\n",
      "Epoch 11/100\n",
      "34/34 [==============================] - 0s 3ms/step - loss: 0.8418\n",
      "Epoch 12/100\n",
      "34/34 [==============================] - 0s 4ms/step - loss: 0.8133\n",
      "Epoch 13/100\n",
      "34/34 [==============================] - 0s 3ms/step - loss: 0.7868\n",
      "Epoch 14/100\n",
      "34/34 [==============================] - 0s 3ms/step - loss: 0.7623\n",
      "Epoch 15/100\n",
      "34/34 [==============================] - 0s 2ms/step - loss: 0.7393\n",
      "Epoch 16/100\n",
      "34/34 [==============================] - 0s 3ms/step - loss: 0.7195\n",
      "Epoch 17/100\n",
      "34/34 [==============================] - 0s 3ms/step - loss: 0.7016\n",
      "Epoch 18/100\n",
      "34/34 [==============================] - 0s 3ms/step - loss: 0.6857\n",
      "Epoch 19/100\n",
      "34/34 [==============================] - 0s 3ms/step - loss: 0.6721\n",
      "Epoch 20/100\n",
      "34/34 [==============================] - 0s 3ms/step - loss: 0.6601\n",
      "Epoch 21/100\n",
      "34/34 [==============================] - 0s 3ms/step - loss: 0.6498\n",
      "Epoch 22/100\n",
      "34/34 [==============================] - 0s 3ms/step - loss: 0.6407\n",
      "Epoch 23/100\n",
      "34/34 [==============================] - 0s 3ms/step - loss: 0.6327\n",
      "Epoch 24/100\n",
      "34/34 [==============================] - 0s 2ms/step - loss: 0.6257\n",
      "Epoch 25/100\n",
      "34/34 [==============================] - 0s 3ms/step - loss: 0.6196\n",
      "Epoch 26/100\n",
      "34/34 [==============================] - 0s 2ms/step - loss: 0.6142\n",
      "Epoch 27/100\n",
      "34/34 [==============================] - 0s 2ms/step - loss: 0.6094\n",
      "Epoch 28/100\n",
      "34/34 [==============================] - 0s 2ms/step - loss: 0.6050\n",
      "Epoch 29/100\n",
      "34/34 [==============================] - 0s 2ms/step - loss: 0.6011\n",
      "Epoch 30/100\n",
      "34/34 [==============================] - 0s 3ms/step - loss: 0.5976\n",
      "Epoch 31/100\n",
      "34/34 [==============================] - 0s 3ms/step - loss: 0.5944\n",
      "Epoch 32/100\n",
      "34/34 [==============================] - 0s 4ms/step - loss: 0.5915\n",
      "Epoch 33/100\n",
      "34/34 [==============================] - 0s 3ms/step - loss: 0.5889\n",
      "Epoch 34/100\n",
      "34/34 [==============================] - 0s 3ms/step - loss: 0.5865\n",
      "Epoch 35/100\n",
      "34/34 [==============================] - 0s 3ms/step - loss: 0.5843\n",
      "Epoch 36/100\n",
      "34/34 [==============================] - 0s 2ms/step - loss: 0.5823\n",
      "Epoch 37/100\n",
      "34/34 [==============================] - 0s 2ms/step - loss: 0.5804\n",
      "Epoch 38/100\n",
      "34/34 [==============================] - 0s 2ms/step - loss: 0.5786\n",
      "Epoch 39/100\n",
      "34/34 [==============================] - 0s 2ms/step - loss: 0.5770\n",
      "Epoch 40/100\n",
      "34/34 [==============================] - 0s 3ms/step - loss: 0.5754\n",
      "Epoch 41/100\n",
      "34/34 [==============================] - 0s 2ms/step - loss: 0.5740\n",
      "Epoch 42/100\n",
      "34/34 [==============================] - 0s 2ms/step - loss: 0.5726\n",
      "Epoch 43/100\n",
      "34/34 [==============================] - 0s 2ms/step - loss: 0.5714\n",
      "Epoch 44/100\n",
      "34/34 [==============================] - 0s 2ms/step - loss: 0.5702\n",
      "Epoch 45/100\n",
      "34/34 [==============================] - 0s 2ms/step - loss: 0.5690\n",
      "Epoch 46/100\n",
      "34/34 [==============================] - 0s 2ms/step - loss: 0.5680\n",
      "Epoch 47/100\n",
      "34/34 [==============================] - 0s 2ms/step - loss: 0.5670\n",
      "Epoch 48/100\n",
      "34/34 [==============================] - 0s 2ms/step - loss: 0.5660\n",
      "Epoch 49/100\n",
      "34/34 [==============================] - 0s 3ms/step - loss: 0.5651\n",
      "Epoch 50/100\n",
      "34/34 [==============================] - 0s 2ms/step - loss: 0.5642\n",
      "Epoch 51/100\n",
      "34/34 [==============================] - 0s 2ms/step - loss: 0.5634\n",
      "Epoch 52/100\n",
      "34/34 [==============================] - 0s 3ms/step - loss: 0.5626\n",
      "Epoch 53/100\n",
      "34/34 [==============================] - 0s 2ms/step - loss: 0.5619\n",
      "Epoch 54/100\n",
      "34/34 [==============================] - 0s 2ms/step - loss: 0.5611\n",
      "Epoch 55/100\n",
      "34/34 [==============================] - 0s 2ms/step - loss: 0.5605\n",
      "Epoch 56/100\n",
      "34/34 [==============================] - 0s 4ms/step - loss: 0.5598\n",
      "Epoch 57/100\n",
      "34/34 [==============================] - 0s 3ms/step - loss: 0.5591\n",
      "Epoch 58/100\n",
      "34/34 [==============================] - 0s 3ms/step - loss: 0.5585\n",
      "Epoch 59/100\n",
      "34/34 [==============================] - 0s 3ms/step - loss: 0.5579\n",
      "Epoch 60/100\n",
      "34/34 [==============================] - 0s 3ms/step - loss: 0.5573\n",
      "Epoch 61/100\n",
      "34/34 [==============================] - 0s 3ms/step - loss: 0.5568\n",
      "Epoch 62/100\n",
      "34/34 [==============================] - 0s 3ms/step - loss: 0.5562\n",
      "Epoch 63/100\n",
      "34/34 [==============================] - 0s 3ms/step - loss: 0.5557\n",
      "Epoch 64/100\n",
      "34/34 [==============================] - 0s 2ms/step - loss: 0.5552\n",
      "Epoch 65/100\n",
      "34/34 [==============================] - 0s 2ms/step - loss: 0.5547\n",
      "Epoch 66/100\n",
      "34/34 [==============================] - 0s 3ms/step - loss: 0.5542\n",
      "Epoch 67/100\n",
      "34/34 [==============================] - 0s 2ms/step - loss: 0.5538\n",
      "Epoch 68/100\n",
      "34/34 [==============================] - 0s 2ms/step - loss: 0.5533\n",
      "Epoch 69/100\n",
      "34/34 [==============================] - 0s 2ms/step - loss: 0.5529\n",
      "Epoch 70/100\n",
      "34/34 [==============================] - 0s 3ms/step - loss: 0.5525\n",
      "Epoch 71/100\n",
      "34/34 [==============================] - 0s 3ms/step - loss: 0.5520\n",
      "Epoch 72/100\n",
      "34/34 [==============================] - 0s 2ms/step - loss: 0.5516\n",
      "Epoch 73/100\n",
      "34/34 [==============================] - 0s 2ms/step - loss: 0.5512\n",
      "Epoch 74/100\n",
      "34/34 [==============================] - 0s 3ms/step - loss: 0.5508\n",
      "Epoch 75/100\n",
      "34/34 [==============================] - 0s 2ms/step - loss: 0.5504\n",
      "Epoch 76/100\n",
      "34/34 [==============================] - 0s 2ms/step - loss: 0.5500\n",
      "Epoch 77/100\n",
      "34/34 [==============================] - 0s 4ms/step - loss: 0.5496\n",
      "Epoch 78/100\n",
      "34/34 [==============================] - 0s 2ms/step - loss: 0.5492\n",
      "Epoch 79/100\n",
      "34/34 [==============================] - 0s 2ms/step - loss: 0.5489\n",
      "Epoch 80/100\n",
      "34/34 [==============================] - 0s 2ms/step - loss: 0.5485\n",
      "Epoch 81/100\n",
      "34/34 [==============================] - 0s 2ms/step - loss: 0.5481\n",
      "Epoch 82/100\n",
      "34/34 [==============================] - 0s 3ms/step - loss: 0.5478\n",
      "Epoch 83/100\n",
      "34/34 [==============================] - 0s 2ms/step - loss: 0.5474\n",
      "Epoch 84/100\n",
      "34/34 [==============================] - 0s 2ms/step - loss: 0.5471\n",
      "Epoch 85/100\n",
      "34/34 [==============================] - 0s 2ms/step - loss: 0.5468\n",
      "Epoch 86/100\n",
      "34/34 [==============================] - 0s 2ms/step - loss: 0.5465\n",
      "Epoch 87/100\n",
      "34/34 [==============================] - 0s 2ms/step - loss: 0.5462\n",
      "Epoch 88/100\n",
      "34/34 [==============================] - 0s 2ms/step - loss: 0.5459\n",
      "Epoch 89/100\n",
      "34/34 [==============================] - 0s 2ms/step - loss: 0.5455\n",
      "Epoch 90/100\n",
      "34/34 [==============================] - 0s 2ms/step - loss: 0.5452\n",
      "Epoch 91/100\n",
      "34/34 [==============================] - 0s 2ms/step - loss: 0.5449\n",
      "Epoch 92/100\n",
      "34/34 [==============================] - 0s 2ms/step - loss: 0.5446\n",
      "Epoch 93/100\n",
      "34/34 [==============================] - 0s 2ms/step - loss: 0.5443\n",
      "Epoch 94/100\n",
      "34/34 [==============================] - 0s 2ms/step - loss: 0.5440\n",
      "Epoch 95/100\n",
      "34/34 [==============================] - 0s 3ms/step - loss: 0.5437\n",
      "Epoch 96/100\n",
      "34/34 [==============================] - 0s 2ms/step - loss: 0.5435\n",
      "Epoch 97/100\n",
      "34/34 [==============================] - 0s 2ms/step - loss: 0.5432\n",
      "Epoch 98/100\n",
      "34/34 [==============================] - 0s 3ms/step - loss: 0.5429\n",
      "Epoch 99/100\n",
      "34/34 [==============================] - 0s 2ms/step - loss: 0.5427\n",
      "Epoch 100/100\n",
      "34/34 [==============================] - 0s 2ms/step - loss: 0.5425\n"
     ]
    }
   ],
   "source": [
    "import tensorflow as tf\n",
    "from tensorflow.keras.utils import to_categorical\n",
    "\n",
    "xy_labels = list(labels_new['label'])\n",
    "\n",
    "# assessor = assessFeatures(xy,xy_labels)\n",
    "# X_train, X_val, y_train, y_val = train_test_split(xy, xy_labels, test_size=0.2, random_state=42)\n",
    "# X_test, X_val, y_test, y_val = train_test_split(X_val, y_val, test_size=0.5, random_state=42)\n",
    "\n",
    "# input_shape = len(X_train.columns)\n",
    "\n",
    "# scaler = StandardScaler()\n",
    "# X_train = scaler.fit_transform(X_train)\n",
    "# X_val = scaler.transform(X_val)\n",
    "\n",
    "input_shape = len(xy.columns)\n",
    "\n",
    "X_train = StandardScaler().fit_transform(xy)\n",
    "\n",
    "model = tf.keras.Sequential([\n",
    "    tf.keras.layers.Dense(input_shape, activation='relu',input_shape=(input_shape,)),\n",
    "    # tf.keras.layers.Dropout(0.35),\n",
    "    tf.keras.layers.Dense(input_shape, activation='sigmoid'),\n",
    "])\n",
    "\n",
    "# y_train_categorized, y_val_categorized = to_categorical(y_train, num_classes=2), to_categorical(y_val, num_classes=2)\n",
    "\n",
    "model.compile(optimizer='adam', loss='mean_squared_error')\n",
    "history = model.fit(X_train, X_train, epochs=100, batch_size=32)"
   ]
  },
  {
   "cell_type": "code",
   "execution_count": 128,
   "metadata": {},
   "outputs": [],
   "source": [
    "from sklearn.cluster import DBSCAN\n",
    "import sklearn.cluster as cluster\n",
    "\n",
    "encoded_data = model.layers[1](X_train)\n",
    "\n",
    "kmeans = cluster.HDBSCAN()\n",
    "cluster_labels = kmeans.fit_predict(encoded_data[:,4:6])"
   ]
  },
  {
   "cell_type": "code",
   "execution_count": 129,
   "metadata": {},
   "outputs": [
    {
     "data": {
      "text/plain": [
       "array([-1,  0,  1,  2,  3,  4,  5,  6,  7,  8,  9, 10, 11, 12, 13, 14, 15,\n",
       "       16, 17, 18, 19, 20, 21, 22, 23, 24, 25, 26, 27, 28, 29, 30, 31, 32,\n",
       "       33, 34, 35, 36, 37, 38, 39, 40, 41, 42], dtype=int64)"
      ]
     },
     "execution_count": 129,
     "metadata": {},
     "output_type": "execute_result"
    }
   ],
   "source": [
    "np.unique(cluster_labels)"
   ]
  },
  {
   "cell_type": "code",
   "execution_count": 334,
   "metadata": {},
   "outputs": [
    {
     "data": {
      "text/plain": [
       "<tf.Tensor: shape=(1058,), dtype=float32, numpy=\n",
       "array([0.23067157, 0.25945544, 0.0372904 , ..., 0.1735712 , 0.24553259,\n",
       "       0.85181826], dtype=float32)>"
      ]
     },
     "execution_count": 334,
     "metadata": {},
     "output_type": "execute_result"
    }
   ],
   "source": [
    "encoded_data[:,0]"
   ]
  },
  {
   "cell_type": "code",
   "execution_count": null,
   "metadata": {},
   "outputs": [
    {
     "data": {
      "text/plain": [
       "{'AUC': 0.3392709441096538,\n",
       " 'f1': 0.3847328244274809,\n",
       " 'recall': 1.0,\n",
       " 'precision': 0.2381852551984877}"
      ]
     },
     "execution_count": 331,
     "metadata": {},
     "output_type": "execute_result"
    }
   ],
   "source": [
    "# y_pred = model.predict(X_test)[:,1]\n",
    "assessor.getScores(xy_labels, cluster_labels)"
   ]
  },
  {
   "cell_type": "code",
   "execution_count": 139,
   "metadata": {},
   "outputs": [
    {
     "data": {
      "image/png": "[encoded data removed]",
      "text/plain": [
       "<Figure size 640x480 with 1 Axes>"
      ]
     },
     "metadata": {},
     "output_type": "display_data"
    }
   ],
   "source": [
    "import matplotlib.pyplot as plt\n",
    "\n",
    "scatter = plt.scatter(encoded_data[:,5], encoded_data[:,4]*2, c=cluster_labels, cmap='viridis')\n",
    "legend = plt.legend(handles=scatter.legend_elements()[0], labels=list(cluster_labels))\n",
    "plt.title(\"Clustering Results\")\n",
    "plt.show()"
   ]
  },
  {
   "cell_type": "code",
   "execution_count": 146,
   "metadata": {},
   "outputs": [
    {
     "data": {
      "text/plain": [
       "{'AUC': 0.743629130725905,\n",
       " 'f1': 0.5933682373472948,\n",
       " 'recall': 0.6746031746031746,\n",
       " 'precision': 0.5295950155763239}"
      ]
     },
     "execution_count": 146,
     "metadata": {},
     "output_type": "execute_result"
    }
   ],
   "source": [
    "pred = np.array(encoded_data[:,5] < 0.1).astype(int)\n",
    "assessor.getScores(xy_labels, pred)"
   ]
  },
  {
   "cell_type": "code",
   "execution_count": 155,
   "metadata": {},
   "outputs": [],
   "source": [
    "data=np.load(\"second_batch_with_labels_likes.npz\")\n",
    "df, labels = simpleDataRetrieval(data)\n",
    "# df_second = stuff().doStuff(df_second)"
   ]
  },
  {
   "cell_type": "code",
   "execution_count": 156,
   "metadata": {},
   "outputs": [],
   "source": [
    "XX = df.sort_values(by=[\"item\"], ascending=True)\n",
    "XX = XX.drop(['user'],axis=1)\n",
    "XX = XX.groupby(by='item').aggregate('mean')"
   ]
  },
  {
   "cell_type": "code",
   "execution_count": 157,
   "metadata": {},
   "outputs": [],
   "source": [
    "a = []\n",
    "for i in df['user'].unique():\n",
    "    items = list(df.sort_values(by='item')['item'].loc[df['user']==i])\n",
    "    av_diff=0\n",
    "    for j in range(0,len(items)-1):\n",
    "        diff = items[j+1]-items[j]\n",
    "        av_diff += diff\n",
    "    av_diff /= len(items)\n",
    "    item_comp = {'user':i,'items_diff':av_diff}\n",
    "    a.append(item_comp)\n",
    "user_items_diff = pd.DataFrame(a)\n",
    "user_items_diff = user_items_diff.sort_values(by='user').reset_index(drop=True)"
   ]
  },
  {
   "cell_type": "code",
   "execution_count": 159,
   "metadata": {},
   "outputs": [],
   "source": [
    "f = lambda row: -1 if row < -0.5 else 0\n",
    "XX['mode'] = XX['rating'].apply(lambda row: 1 if row > 0.5 else f(row))\n",
    "\n",
    "user_item_comp = []\n",
    "for i in df['user'].unique():\n",
    "    user_df = df.loc[df['user']==i]\n",
    "    item_comp = {'user':i,'modal_ratings':0,'non_modal_ratings':0,'rating_diff':[]}\n",
    "    for j in user_df['item']:\n",
    "        user_rating = user_df['rating'].loc[user_df['item']==j].iloc[0]\n",
    "        item_mode = XX['mode'][j]\n",
    "\n",
    "        if user_rating == item_mode:\n",
    "            item_comp['modal_ratings'] += 1\n",
    "        else:\n",
    "            item_comp['non_modal_ratings'] += 1\n",
    "\n",
    "        item_comp['rating_diff'].append(abs(item_mode-user_rating))\n",
    "    user_item_comp.append(item_comp)"
   ]
  },
  {
   "cell_type": "code",
   "execution_count": 174,
   "metadata": {},
   "outputs": [],
   "source": [
    "df_new = pd.DataFrame(user_item_comp).sort_values(by='user').reset_index(drop=True)\n",
    "df_new['diff_std'] = df_new['rating_diff'].apply(lambda row: np.std(row))\n",
    "df_new['diff_mean'] = df_new['rating_diff'].apply(lambda row: np.mean(row))\n",
    "\n",
    "mode_ratings_diff = []\n",
    "for index,row in df_new.iterrows():\n",
    "    x = row['modal_ratings']\n",
    "    y = row['non_modal_ratings']\n",
    "    diff = min(x,y)/max(x,y)\n",
    "    mode_ratings_diff.append(diff)\n",
    "df_new['mode_ratings_diff'] = mode_ratings_diff\n",
    "df_new = df_new.sort_values(by='user').reset_index(drop=True)\n",
    "df_new = df_new.join(user_items_diff['items_diff'])"
   ]
  },
  {
   "cell_type": "code",
   "execution_count": 176,
   "metadata": {},
   "outputs": [],
   "source": [
    "xy = df_new.drop(['rating_diff','user'],axis=1)\n",
    "df_scaled = StandardScaler().fit_transform(xy)\n",
    "df_scaled = pd.DataFrame(df_scaled, columns=xy.columns)"
   ]
  },
  {
   "cell_type": "code",
   "execution_count": 181,
   "metadata": {},
   "outputs": [],
   "source": [
    "X_train = StandardScaler().fit_transform(xy)\n",
    "xy_labels = labels['label']"
   ]
  },
  {
   "cell_type": "code",
   "execution_count": 183,
   "metadata": {},
   "outputs": [],
   "source": [
    "encoded_data = model.layers[1](X_train)"
   ]
  },
  {
   "cell_type": "code",
   "execution_count": 184,
   "metadata": {},
   "outputs": [
    {
     "data": {
      "text/plain": [
       "{'AUC': 0.7308333333333333,\n",
       " 'f1': 0.5735735735735736,\n",
       " 'recall': 0.6366666666666667,\n",
       " 'precision': 0.5218579234972678}"
      ]
     },
     "execution_count": 184,
     "metadata": {},
     "output_type": "execute_result"
    }
   ],
   "source": [
    "pred = np.array(encoded_data[:,5] < 0.1).astype(int)\n",
    "assessor.getScores(xy_labels, pred)"
   ]
  },
  {
   "cell_type": "code",
   "execution_count": 194,
   "metadata": {},
   "outputs": [
    {
     "name": "stdout",
     "output_type": "stream",
     "text": [
      "INFO:tensorflow:Assets written to: unsupp_classif_73\\assets\n"
     ]
    }
   ],
   "source": [
    "tf.saved_model.save(model, \"unsupp_classif_73\")"
   ]
  },
  {
   "cell_type": "code",
   "execution_count": 381,
   "metadata": {},
   "outputs": [
    {
     "ename": "ValueError",
     "evalue": "Failed to find data adapter that can handle input: (<class 'list'> containing values of types {'(<class \\'list\\'> containing values of types {\"<class \\'numpy.float32\\'>\"})'}), (<class 'list'> containing values of types {\"<class 'int'>\"})",
     "output_type": "error",
     "traceback": [
      "\u001b[1;31m---------------------------------------------------------------------------\u001b[0m",
      "\u001b[1;31mValueError\u001b[0m                                Traceback (most recent call last)",
      "\u001b[1;32mc:\\Users\\zorko\\OneDrive\\Desktop\\SMU\\CS421 - Machine Learning\\Project_out - 2324\\Project_out - 2324\\testingFeatures.ipynb Cell 28\u001b[0m line \u001b[0;36m3\n\u001b[0;32m     <a href='vscode-notebook-cell:/c%3A/Users/zorko/OneDrive/Desktop/SMU/CS421%20-%20Machine%20Learning/Project_out%20-%202324/Project_out%20-%202324/testingFeatures.ipynb#Y136sZmlsZQ%3D%3D?line=26'>27</a>\u001b[0m \u001b[39m# y_train_categorized, y_val_categorized = to_categorical(y_train, num_classes=2), to_categorical(y_val, num_classes=2)\u001b[39;00m\n\u001b[0;32m     <a href='vscode-notebook-cell:/c%3A/Users/zorko/OneDrive/Desktop/SMU/CS421%20-%20Machine%20Learning/Project_out%20-%202324/Project_out%20-%202324/testingFeatures.ipynb#Y136sZmlsZQ%3D%3D?line=28'>29</a>\u001b[0m model\u001b[39m.\u001b[39mcompile(optimizer\u001b[39m=\u001b[39m\u001b[39m'\u001b[39m\u001b[39madam\u001b[39m\u001b[39m'\u001b[39m, loss\u001b[39m=\u001b[39m\u001b[39m'\u001b[39m\u001b[39mbinary_crossentropy\u001b[39m\u001b[39m'\u001b[39m, metrics\u001b[39m=\u001b[39m[tf\u001b[39m.\u001b[39mkeras\u001b[39m.\u001b[39mmetrics\u001b[39m.\u001b[39mAUC()])\n\u001b[1;32m---> <a href='vscode-notebook-cell:/c%3A/Users/zorko/OneDrive/Desktop/SMU/CS421%20-%20Machine%20Learning/Project_out%20-%202324/Project_out%20-%202324/testingFeatures.ipynb#Y136sZmlsZQ%3D%3D?line=29'>30</a>\u001b[0m history \u001b[39m=\u001b[39m model\u001b[39m.\u001b[39;49mfit(X_train, y_train, epochs\u001b[39m=\u001b[39;49m\u001b[39m100\u001b[39;49m, batch_size\u001b[39m=\u001b[39;49m\u001b[39m32\u001b[39;49m, validation_data\u001b[39m=\u001b[39;49m(X_val, y_val))\n",
      "File \u001b[1;32mc:\\Users\\zorko\\anaconda3\\envs\\cs421\\lib\\site-packages\\keras\\utils\\traceback_utils.py:70\u001b[0m, in \u001b[0;36mfilter_traceback.<locals>.error_handler\u001b[1;34m(*args, **kwargs)\u001b[0m\n\u001b[0;32m     67\u001b[0m     filtered_tb \u001b[39m=\u001b[39m _process_traceback_frames(e\u001b[39m.\u001b[39m__traceback__)\n\u001b[0;32m     68\u001b[0m     \u001b[39m# To get the full stack trace, call:\u001b[39;00m\n\u001b[0;32m     69\u001b[0m     \u001b[39m# `tf.debugging.disable_traceback_filtering()`\u001b[39;00m\n\u001b[1;32m---> 70\u001b[0m     \u001b[39mraise\u001b[39;00m e\u001b[39m.\u001b[39mwith_traceback(filtered_tb) \u001b[39mfrom\u001b[39;00m \u001b[39mNone\u001b[39;00m\n\u001b[0;32m     71\u001b[0m \u001b[39mfinally\u001b[39;00m:\n\u001b[0;32m     72\u001b[0m     \u001b[39mdel\u001b[39;00m filtered_tb\n",
      "File \u001b[1;32mc:\\Users\\zorko\\anaconda3\\envs\\cs421\\lib\\site-packages\\keras\\engine\\data_adapter.py:1083\u001b[0m, in \u001b[0;36mselect_data_adapter\u001b[1;34m(x, y)\u001b[0m\n\u001b[0;32m   1080\u001b[0m adapter_cls \u001b[39m=\u001b[39m [\u001b[39mcls\u001b[39m \u001b[39mfor\u001b[39;00m \u001b[39mcls\u001b[39m \u001b[39min\u001b[39;00m ALL_ADAPTER_CLS \u001b[39mif\u001b[39;00m \u001b[39mcls\u001b[39m\u001b[39m.\u001b[39mcan_handle(x, y)]\n\u001b[0;32m   1081\u001b[0m \u001b[39mif\u001b[39;00m \u001b[39mnot\u001b[39;00m adapter_cls:\n\u001b[0;32m   1082\u001b[0m     \u001b[39m# TODO(scottzhu): This should be a less implementation-specific error.\u001b[39;00m\n\u001b[1;32m-> 1083\u001b[0m     \u001b[39mraise\u001b[39;00m \u001b[39mValueError\u001b[39;00m(\n\u001b[0;32m   1084\u001b[0m         \u001b[39m\"\u001b[39m\u001b[39mFailed to find data adapter that can handle \u001b[39m\u001b[39m\"\u001b[39m\n\u001b[0;32m   1085\u001b[0m         \u001b[39m\"\u001b[39m\u001b[39minput: \u001b[39m\u001b[39m{}\u001b[39;00m\u001b[39m, \u001b[39m\u001b[39m{}\u001b[39;00m\u001b[39m\"\u001b[39m\u001b[39m.\u001b[39mformat(_type_name(x), _type_name(y))\n\u001b[0;32m   1086\u001b[0m     )\n\u001b[0;32m   1087\u001b[0m \u001b[39melif\u001b[39;00m \u001b[39mlen\u001b[39m(adapter_cls) \u001b[39m>\u001b[39m \u001b[39m1\u001b[39m:\n\u001b[0;32m   1088\u001b[0m     \u001b[39mraise\u001b[39;00m \u001b[39mRuntimeError\u001b[39;00m(\n\u001b[0;32m   1089\u001b[0m         \u001b[39m\"\u001b[39m\u001b[39mData adapters should be mutually exclusive for \u001b[39m\u001b[39m\"\u001b[39m\n\u001b[0;32m   1090\u001b[0m         \u001b[39m\"\u001b[39m\u001b[39mhandling inputs. Found multiple adapters \u001b[39m\u001b[39m{}\u001b[39;00m\u001b[39m to handle \u001b[39m\u001b[39m\"\u001b[39m\n\u001b[0;32m   1091\u001b[0m         \u001b[39m\"\u001b[39m\u001b[39minput: \u001b[39m\u001b[39m{}\u001b[39;00m\u001b[39m, \u001b[39m\u001b[39m{}\u001b[39;00m\u001b[39m\"\u001b[39m\u001b[39m.\u001b[39mformat(adapter_cls, _type_name(x), _type_name(y))\n\u001b[0;32m   1092\u001b[0m     )\n",
      "\u001b[1;31mValueError\u001b[0m: Failed to find data adapter that can handle input: (<class 'list'> containing values of types {'(<class \\'list\\'> containing values of types {\"<class \\'numpy.float32\\'>\"})'}), (<class 'list'> containing values of types {\"<class 'int'>\"})"
     ]
    }
   ],
   "source": [
    "import tensorflow as tf\n",
    "from tensorflow.keras.utils import to_categorical\n",
    "\n",
    "xy_labels = list(labels_new['label'])\n",
    "\n",
    "assessor = assessFeatures(xy,xy_labels)\n",
    "encoded_data = list(encoded_data)\n",
    "X_train, X_val, y_train, y_val = w[:800], w[800:], xy_labels[:800], xy_labels[:800]\n",
    "# X_test, X_val, y_test, y_val = train_test_split(X_val, y_val, test_size=0.5, random_state=42)\n",
    "\n",
    "input_shape = len(X_train[0])\n",
    "\n",
    "# scaler = StandardScaler()\n",
    "# X_train = scaler.fit_transform(X_train)\n",
    "# X_val = scaler.transform(X_val)\n",
    "\n",
    "# input_shape = len(xy.columns)\n",
    "\n",
    "# X_train = StandardScaler().fit_transform(xy)\n",
    "\n",
    "model = tf.keras.Sequential([\n",
    "    tf.keras.layers.Dense(10, activation='relu',input_shape=(input_shape,)),\n",
    "    # tf.keras.layers.Dropout(0.35),\n",
    "    tf.keras.layers.Dense(2, activation='sigmoid'),\n",
    "])\n",
    "\n",
    "# y_train_categorized, y_val_categorized = to_categorical(y_train, num_classes=2), to_categorical(y_val, num_classes=2)\n",
    "\n",
    "model.compile(optimizer='adam', loss='binary_crossentropy', metrics=[tf.keras.metrics.AUC()])\n",
    "history = model.fit(X_train, y_train, epochs=100, batch_size=32, validation_data=(X_val, y_val))"
   ]
  },
  {
   "cell_type": "code",
   "execution_count": 366,
   "metadata": {},
   "outputs": [],
   "source": [
    "pred_thresh = (np.array(encoded_data[:,2]) > 0.1).astype(int)"
   ]
  },
  {
   "cell_type": "code",
   "execution_count": 367,
   "metadata": {},
   "outputs": [
    {
     "data": {
      "text/plain": [
       "{'AUC': 0.48690870061837804,\n",
       " 'f1': 0.3847328244274809,\n",
       " 'recall': 1.0,\n",
       " 'precision': 0.2381852551984877}"
      ]
     },
     "execution_count": 367,
     "metadata": {},
     "output_type": "execute_result"
    }
   ],
   "source": [
    "assessor.getScores(xy_labels, pred_thresh)"
   ]
  },
  {
   "cell_type": "code",
   "execution_count": null,
   "metadata": {},
   "outputs": [],
   "source": [
    "1.2 , 1.3"
   ]
  }
 ],
 "metadata": {
  "kernelspec": {
   "display_name": "cs421",
   "language": "python",
   "name": "python3"
  },
  "language_info": {
   "codemirror_mode": {
    "name": "ipython",
    "version": 3
   },
   "file_extension": ".py",
   "mimetype": "text/x-python",
   "name": "python",
   "nbconvert_exporter": "python",
   "pygments_lexer": "ipython3",
   "version": "3.10.13"
  }
 },
 "nbformat": 4,
 "nbformat_minor": 2
}
