{
 "cells": [
  {
   "cell_type": "code",
   "execution_count": 48,
   "metadata": {},
   "outputs": [],
   "source": [
    "import sys\n",
    "\n",
    "# Select path to current folder and split by \\\\\n",
    "main_path = sys.path[0].split(\"\\\\\")\n",
    "\n",
    "# Asssign path to parent folder\n",
    "# path_to_parent allows access to any folder from within parent folder, no matter the location of this file within the parent folder\n",
    "# i.e.: Don't need to specify \"../\" x amount of times\n",
    "path_to_parent = []\n",
    "for element in main_path:\n",
    "    path_to_parent.append(element)\n",
    "    if \"Fake_Users_Movies_Classifier\" == element:\n",
    "        break\n",
    "\n",
    "path_to_parent = \"\\\\\".join(path_to_parent)\n",
    "\n",
    "# Add path to feature generation folder\n",
    "sys.path.append(path_to_parent+\"\\\\feature_generation\")"
   ]
  },
  {
   "cell_type": "code",
   "execution_count": 49,
   "metadata": {},
   "outputs": [],
   "source": [
    "# Import feature generator for week 1\n",
    "from feature_gen_wk3 import feature_gen\n",
    "\n",
    "# Create string path to labelled data\n",
    "path_to_file = path_to_parent + \"/labelled_data/first_batch_with_labels_likes.npz\"\n",
    "# Generate features from file\n",
    "df_final = feature_gen().retrieveAndGenerate(path_to_file)"
   ]
  },
  {
   "cell_type": "code",
   "execution_count": 50,
   "metadata": {},
   "outputs": [],
   "source": [
    "data, yy = feature_gen().extractDataFromNPZ(path_to_file)"
   ]
  },
  {
   "cell_type": "code",
   "execution_count": 51,
   "metadata": {},
   "outputs": [],
   "source": [
    "import pandas as pd\n",
    "import numpy as np"
   ]
  },
  {
   "cell_type": "code",
   "execution_count": 52,
   "metadata": {},
   "outputs": [],
   "source": [
    "df_base = data\n",
    "\n",
    "\n",
    "# Sort data by item, remove user column and calculate mean rating of each item\n",
    "XX = df_base.sort_values(by=[\"item\"], ascending=True)\n",
    "XX = XX.drop(['user'],axis=1)\n",
    "XX = XX.groupby(by='item').aggregate('mean')\n",
    "\n",
    "# Retrieve user ID's\n",
    "users = df_base['user'].unique()\n",
    "\n",
    "# Initialize empty list\n",
    "users_mean_diff = []\n",
    "# Retrieve items rated by users and convert to dictionary\n",
    "user_items = df_base.groupby('user')['item'].agg(list).to_dict()\n",
    "\n",
    "# Iterate through all users\n",
    "for i in users:\n",
    "    # Retrieve items that the user rated (interacted with)\n",
    "    items = user_items[i]\n",
    "    # Set mean_ID_iff to 0\n",
    "    mean_ID_diff=0\n",
    "\n",
    "    # Loop through all items\n",
    "    for j in range(0,len(items)-1):\n",
    "        # Calculate the difference between ID of current item, and the next item\n",
    "        ID_diff = items[j+1]-items[j]\n",
    "        # Increment mean_diff by value of ID_diff\n",
    "        mean_ID_diff += ID_diff\n",
    "\n",
    "    # Divide mean_ID_diff by total amount of items to calculate mean\n",
    "    mean_ID_diff /= len(items)\n",
    "    # Create a dictionary of user : mean item ID difference pair\n",
    "    user_mean_diff = {'user':i,'mean_ID_diff':mean_ID_diff}\n",
    "    # Append dictionary to list\n",
    "    users_mean_diff.append(user_mean_diff)\n",
    "\n",
    "# Convert list to pandas dataframe and sort values by user ID\n",
    "users_mean_diff = pd.DataFrame(users_mean_diff)\n",
    "users_mean_diff = users_mean_diff.sort_values(by='user').reset_index(drop=True)"
   ]
  },
  {
   "cell_type": "code",
   "execution_count": 54,
   "metadata": {},
   "outputs": [],
   "source": [
    "f = lambda row: -1 if row < -0.5 else 0\n",
    "XX['mode'] = XX['rating'].apply(lambda row: 1 if row > 0.5 else f(row))"
   ]
  },
  {
   "cell_type": "code",
   "execution_count": 59,
   "metadata": {},
   "outputs": [],
   "source": [
    "df = data"
   ]
  },
  {
   "cell_type": "code",
   "execution_count": 81,
   "metadata": {},
   "outputs": [
    {
     "data": {
      "text/plain": [
       "item      [15, 19, 21, 31, 46, 49, 54, 55, 56, 58, 73, 7...\n",
       "rating    [0, 1, 0, 0, 1, 0, 1, -1, 0, 1, -1, 0, 0, 0, -...\n",
       "Name: 0, dtype: object"
      ]
     },
     "execution_count": 81,
     "metadata": {},
     "output_type": "execute_result"
    }
   ],
   "source": [
    "items"
   ]
  },
  {
   "cell_type": "code",
   "execution_count": 94,
   "metadata": {},
   "outputs": [],
   "source": [
    "users_item_ratings = df.groupby('user').agg(list)\n",
    "\n",
    "\n",
    "user_item_comp = []\n",
    "for user in users_item_ratings.index:\n",
    "    items = users_item_ratings.loc[user]['item']\n",
    "    ratings = users_item_ratings.loc[user]['rating']\n",
    "\n",
    "    item_comp = {'user':i,'modal_ratings':0,'non_modal_ratings':0,'rating_diff':[]}\n",
    "\n",
    "    items_mode = XX['mode'][items]\n",
    "    \n",
    "    item_comp['modal_ratings'] = np.sum(ratings == items_mode)\n",
    "    item_comp['rating_diff'] = abs(items_mode - ratings)\n",
    "\n",
    "    item_comp['non_modal_ratings'] = len(item_comp['rating_diff']) - item_comp['modal_ratings']\n",
    "    user_item_comp.append(item_comp)"
   ]
  },
  {
   "cell_type": "code",
   "execution_count": 92,
   "metadata": {},
   "outputs": [
    {
     "data": {
      "text/plain": [
       "{0, 1, 2}"
      ]
     },
     "execution_count": 92,
     "metadata": {},
     "output_type": "execute_result"
    }
   ],
   "source": [
    "set(abs(items_mode - ratings))"
   ]
  },
  {
   "cell_type": "code",
   "execution_count": 73,
   "metadata": {},
   "outputs": [],
   "source": [
    "user_item_ratings = df.groupby('user').agg(list)"
   ]
  },
  {
   "cell_type": "code",
   "execution_count": 58,
   "metadata": {},
   "outputs": [
    {
     "ename": "KeyError",
     "evalue": "'items_diff'",
     "output_type": "error",
     "traceback": [
      "\u001b[1;31m---------------------------------------------------------------------------\u001b[0m",
      "\u001b[1;31mKeyError\u001b[0m                                  Traceback (most recent call last)",
      "File \u001b[1;32mc:\\Users\\zorko\\anaconda3\\envs\\cs421\\lib\\site-packages\\pandas\\core\\indexes\\base.py:3653\u001b[0m, in \u001b[0;36mIndex.get_loc\u001b[1;34m(self, key)\u001b[0m\n\u001b[0;32m   3652\u001b[0m \u001b[39mtry\u001b[39;00m:\n\u001b[1;32m-> 3653\u001b[0m     \u001b[39mreturn\u001b[39;00m \u001b[39mself\u001b[39;49m\u001b[39m.\u001b[39;49m_engine\u001b[39m.\u001b[39;49mget_loc(casted_key)\n\u001b[0;32m   3654\u001b[0m \u001b[39mexcept\u001b[39;00m \u001b[39mKeyError\u001b[39;00m \u001b[39mas\u001b[39;00m err:\n",
      "File \u001b[1;32mc:\\Users\\zorko\\anaconda3\\envs\\cs421\\lib\\site-packages\\pandas\\_libs\\index.pyx:147\u001b[0m, in \u001b[0;36mpandas._libs.index.IndexEngine.get_loc\u001b[1;34m()\u001b[0m\n",
      "File \u001b[1;32mc:\\Users\\zorko\\anaconda3\\envs\\cs421\\lib\\site-packages\\pandas\\_libs\\index.pyx:176\u001b[0m, in \u001b[0;36mpandas._libs.index.IndexEngine.get_loc\u001b[1;34m()\u001b[0m\n",
      "File \u001b[1;32mpandas\\_libs\\hashtable_class_helper.pxi:7080\u001b[0m, in \u001b[0;36mpandas._libs.hashtable.PyObjectHashTable.get_item\u001b[1;34m()\u001b[0m\n",
      "File \u001b[1;32mpandas\\_libs\\hashtable_class_helper.pxi:7088\u001b[0m, in \u001b[0;36mpandas._libs.hashtable.PyObjectHashTable.get_item\u001b[1;34m()\u001b[0m\n",
      "\u001b[1;31mKeyError\u001b[0m: 'items_diff'",
      "\nThe above exception was the direct cause of the following exception:\n",
      "\u001b[1;31mKeyError\u001b[0m                                  Traceback (most recent call last)",
      "\u001b[1;32mc:\\Users\\zorko\\Desktop\\Git\\Fake_Users_Movies_Classifier\\feature_generation\\tes.ipynb Cell 8\u001b[0m line \u001b[0;36m3\n\u001b[0;32m     <a href='vscode-notebook-cell:/c%3A/Users/zorko/Desktop/Git/Fake_Users_Movies_Classifier/feature_generation/tes.ipynb#Y325sZmlsZQ%3D%3D?line=28'>29</a>\u001b[0m df_new[\u001b[39m'\u001b[39m\u001b[39mmode_ratings_diff\u001b[39m\u001b[39m'\u001b[39m] \u001b[39m=\u001b[39m mode_ratings_diff\n\u001b[0;32m     <a href='vscode-notebook-cell:/c%3A/Users/zorko/Desktop/Git/Fake_Users_Movies_Classifier/feature_generation/tes.ipynb#Y325sZmlsZQ%3D%3D?line=29'>30</a>\u001b[0m df_new \u001b[39m=\u001b[39m df_new\u001b[39m.\u001b[39msort_values(by\u001b[39m=\u001b[39m\u001b[39m'\u001b[39m\u001b[39muser\u001b[39m\u001b[39m'\u001b[39m)\u001b[39m.\u001b[39mreset_index(drop\u001b[39m=\u001b[39m\u001b[39mTrue\u001b[39;00m)\n\u001b[1;32m---> <a href='vscode-notebook-cell:/c%3A/Users/zorko/Desktop/Git/Fake_Users_Movies_Classifier/feature_generation/tes.ipynb#Y325sZmlsZQ%3D%3D?line=30'>31</a>\u001b[0m df_new \u001b[39m=\u001b[39m df_new\u001b[39m.\u001b[39mjoin(users_mean_diff[\u001b[39m'\u001b[39;49m\u001b[39mitems_diff\u001b[39;49m\u001b[39m'\u001b[39;49m])\n\u001b[0;32m     <a href='vscode-notebook-cell:/c%3A/Users/zorko/Desktop/Git/Fake_Users_Movies_Classifier/feature_generation/tes.ipynb#Y325sZmlsZQ%3D%3D?line=32'>33</a>\u001b[0m df_new \u001b[39m=\u001b[39m df_new\u001b[39m.\u001b[39mdrop([\u001b[39m'\u001b[39m\u001b[39mrating_diff\u001b[39m\u001b[39m'\u001b[39m],axis\u001b[39m=\u001b[39m\u001b[39m1\u001b[39m)\n\u001b[0;32m     <a href='vscode-notebook-cell:/c%3A/Users/zorko/Desktop/Git/Fake_Users_Movies_Classifier/feature_generation/tes.ipynb#Y325sZmlsZQ%3D%3D?line=33'>34</a>\u001b[0m df_new\u001b[39m.\u001b[39mindex \u001b[39m=\u001b[39m df_new[\u001b[39m'\u001b[39m\u001b[39muser\u001b[39m\u001b[39m'\u001b[39m]\n",
      "File \u001b[1;32mc:\\Users\\zorko\\anaconda3\\envs\\cs421\\lib\\site-packages\\pandas\\core\\frame.py:3761\u001b[0m, in \u001b[0;36mDataFrame.__getitem__\u001b[1;34m(self, key)\u001b[0m\n\u001b[0;32m   3759\u001b[0m \u001b[39mif\u001b[39;00m \u001b[39mself\u001b[39m\u001b[39m.\u001b[39mcolumns\u001b[39m.\u001b[39mnlevels \u001b[39m>\u001b[39m \u001b[39m1\u001b[39m:\n\u001b[0;32m   3760\u001b[0m     \u001b[39mreturn\u001b[39;00m \u001b[39mself\u001b[39m\u001b[39m.\u001b[39m_getitem_multilevel(key)\n\u001b[1;32m-> 3761\u001b[0m indexer \u001b[39m=\u001b[39m \u001b[39mself\u001b[39;49m\u001b[39m.\u001b[39;49mcolumns\u001b[39m.\u001b[39;49mget_loc(key)\n\u001b[0;32m   3762\u001b[0m \u001b[39mif\u001b[39;00m is_integer(indexer):\n\u001b[0;32m   3763\u001b[0m     indexer \u001b[39m=\u001b[39m [indexer]\n",
      "File \u001b[1;32mc:\\Users\\zorko\\anaconda3\\envs\\cs421\\lib\\site-packages\\pandas\\core\\indexes\\base.py:3655\u001b[0m, in \u001b[0;36mIndex.get_loc\u001b[1;34m(self, key)\u001b[0m\n\u001b[0;32m   3653\u001b[0m     \u001b[39mreturn\u001b[39;00m \u001b[39mself\u001b[39m\u001b[39m.\u001b[39m_engine\u001b[39m.\u001b[39mget_loc(casted_key)\n\u001b[0;32m   3654\u001b[0m \u001b[39mexcept\u001b[39;00m \u001b[39mKeyError\u001b[39;00m \u001b[39mas\u001b[39;00m err:\n\u001b[1;32m-> 3655\u001b[0m     \u001b[39mraise\u001b[39;00m \u001b[39mKeyError\u001b[39;00m(key) \u001b[39mfrom\u001b[39;00m \u001b[39merr\u001b[39;00m\n\u001b[0;32m   3656\u001b[0m \u001b[39mexcept\u001b[39;00m \u001b[39mTypeError\u001b[39;00m:\n\u001b[0;32m   3657\u001b[0m     \u001b[39m# If we have a listlike key, _check_indexing_error will raise\u001b[39;00m\n\u001b[0;32m   3658\u001b[0m     \u001b[39m#  InvalidIndexError. Otherwise we fall through and re-raise\u001b[39;00m\n\u001b[0;32m   3659\u001b[0m     \u001b[39m#  the TypeError.\u001b[39;00m\n\u001b[0;32m   3660\u001b[0m     \u001b[39mself\u001b[39m\u001b[39m.\u001b[39m_check_indexing_error(key)\n",
      "\u001b[1;31mKeyError\u001b[0m: 'items_diff'"
     ]
    }
   ],
   "source": [
    "df = data\n",
    "\n",
    "\n",
    "\n",
    "df_new = pd.DataFrame(user_item_comp).sort_values(by='user').reset_index(drop=True)\n",
    "df_new['diff_std'] = df_new['rating_diff'].apply(lambda row: np.std(row))\n",
    "df_new['diff_mean'] = df_new['rating_diff'].apply(lambda row: np.mean(row))\n",
    "\n",
    "mode_ratings_diff = []\n",
    "for index,row in df_new.iterrows():\n",
    "    x = row['modal_ratings']\n",
    "    y = row['non_modal_ratings']\n",
    "    diff = min(x,y)/max(x,y)\n",
    "    mode_ratings_diff.append(diff)\n",
    "df_new['mode_ratings_diff'] = mode_ratings_diff\n",
    "df_new = df_new.sort_values(by='user').reset_index(drop=True)\n",
    "df_new = df_new.join(users_mean_diff['items_diff'])\n",
    "\n",
    "df_new = df_new.drop(['rating_diff'],axis=1)\n",
    "df_new.index = df_new['user']"
   ]
  },
  {
   "cell_type": "code",
   "execution_count": 47,
   "metadata": {},
   "outputs": [
    {
     "ename": "KeyError",
     "evalue": "'rating_diff'",
     "output_type": "error",
     "traceback": [
      "\u001b[1;31m---------------------------------------------------------------------------\u001b[0m",
      "\u001b[1;31mKeyError\u001b[0m                                  Traceback (most recent call last)",
      "File \u001b[1;32mc:\\Users\\zorko\\anaconda3\\envs\\cs421\\lib\\site-packages\\pandas\\core\\indexes\\base.py:3653\u001b[0m, in \u001b[0;36mIndex.get_loc\u001b[1;34m(self, key)\u001b[0m\n\u001b[0;32m   3652\u001b[0m \u001b[39mtry\u001b[39;00m:\n\u001b[1;32m-> 3653\u001b[0m     \u001b[39mreturn\u001b[39;00m \u001b[39mself\u001b[39;49m\u001b[39m.\u001b[39;49m_engine\u001b[39m.\u001b[39;49mget_loc(casted_key)\n\u001b[0;32m   3654\u001b[0m \u001b[39mexcept\u001b[39;00m \u001b[39mKeyError\u001b[39;00m \u001b[39mas\u001b[39;00m err:\n",
      "File \u001b[1;32mc:\\Users\\zorko\\anaconda3\\envs\\cs421\\lib\\site-packages\\pandas\\_libs\\index.pyx:147\u001b[0m, in \u001b[0;36mpandas._libs.index.IndexEngine.get_loc\u001b[1;34m()\u001b[0m\n",
      "File \u001b[1;32mc:\\Users\\zorko\\anaconda3\\envs\\cs421\\lib\\site-packages\\pandas\\_libs\\index.pyx:176\u001b[0m, in \u001b[0;36mpandas._libs.index.IndexEngine.get_loc\u001b[1;34m()\u001b[0m\n",
      "File \u001b[1;32mpandas\\_libs\\hashtable_class_helper.pxi:7080\u001b[0m, in \u001b[0;36mpandas._libs.hashtable.PyObjectHashTable.get_item\u001b[1;34m()\u001b[0m\n",
      "File \u001b[1;32mpandas\\_libs\\hashtable_class_helper.pxi:7088\u001b[0m, in \u001b[0;36mpandas._libs.hashtable.PyObjectHashTable.get_item\u001b[1;34m()\u001b[0m\n",
      "\u001b[1;31mKeyError\u001b[0m: 'rating_diff'",
      "\nThe above exception was the direct cause of the following exception:\n",
      "\u001b[1;31mKeyError\u001b[0m                                  Traceback (most recent call last)",
      "\u001b[1;32mc:\\Users\\zorko\\Desktop\\Git\\Fake_Users_Movies_Classifier\\feature_generation\\tes.ipynb Cell 7\u001b[0m line \u001b[0;36m1\n\u001b[1;32m----> <a href='vscode-notebook-cell:/c%3A/Users/zorko/Desktop/Git/Fake_Users_Movies_Classifier/feature_generation/tes.ipynb#Y323sZmlsZQ%3D%3D?line=0'>1</a>\u001b[0m df2[\u001b[39m'\u001b[39;49m\u001b[39mrating_diff\u001b[39;49m\u001b[39m'\u001b[39;49m]\n",
      "File \u001b[1;32mc:\\Users\\zorko\\anaconda3\\envs\\cs421\\lib\\site-packages\\pandas\\core\\frame.py:3761\u001b[0m, in \u001b[0;36mDataFrame.__getitem__\u001b[1;34m(self, key)\u001b[0m\n\u001b[0;32m   3759\u001b[0m \u001b[39mif\u001b[39;00m \u001b[39mself\u001b[39m\u001b[39m.\u001b[39mcolumns\u001b[39m.\u001b[39mnlevels \u001b[39m>\u001b[39m \u001b[39m1\u001b[39m:\n\u001b[0;32m   3760\u001b[0m     \u001b[39mreturn\u001b[39;00m \u001b[39mself\u001b[39m\u001b[39m.\u001b[39m_getitem_multilevel(key)\n\u001b[1;32m-> 3761\u001b[0m indexer \u001b[39m=\u001b[39m \u001b[39mself\u001b[39;49m\u001b[39m.\u001b[39;49mcolumns\u001b[39m.\u001b[39;49mget_loc(key)\n\u001b[0;32m   3762\u001b[0m \u001b[39mif\u001b[39;00m is_integer(indexer):\n\u001b[0;32m   3763\u001b[0m     indexer \u001b[39m=\u001b[39m [indexer]\n",
      "File \u001b[1;32mc:\\Users\\zorko\\anaconda3\\envs\\cs421\\lib\\site-packages\\pandas\\core\\indexes\\base.py:3655\u001b[0m, in \u001b[0;36mIndex.get_loc\u001b[1;34m(self, key)\u001b[0m\n\u001b[0;32m   3653\u001b[0m     \u001b[39mreturn\u001b[39;00m \u001b[39mself\u001b[39m\u001b[39m.\u001b[39m_engine\u001b[39m.\u001b[39mget_loc(casted_key)\n\u001b[0;32m   3654\u001b[0m \u001b[39mexcept\u001b[39;00m \u001b[39mKeyError\u001b[39;00m \u001b[39mas\u001b[39;00m err:\n\u001b[1;32m-> 3655\u001b[0m     \u001b[39mraise\u001b[39;00m \u001b[39mKeyError\u001b[39;00m(key) \u001b[39mfrom\u001b[39;00m \u001b[39merr\u001b[39;00m\n\u001b[0;32m   3656\u001b[0m \u001b[39mexcept\u001b[39;00m \u001b[39mTypeError\u001b[39;00m:\n\u001b[0;32m   3657\u001b[0m     \u001b[39m# If we have a listlike key, _check_indexing_error will raise\u001b[39;00m\n\u001b[0;32m   3658\u001b[0m     \u001b[39m#  InvalidIndexError. Otherwise we fall through and re-raise\u001b[39;00m\n\u001b[0;32m   3659\u001b[0m     \u001b[39m#  the TypeError.\u001b[39;00m\n\u001b[0;32m   3660\u001b[0m     \u001b[39mself\u001b[39m\u001b[39m.\u001b[39m_check_indexing_error(key)\n",
      "\u001b[1;31mKeyError\u001b[0m: 'rating_diff'"
     ]
    }
   ],
   "source": [
    "df2['rating_diff']"
   ]
  },
  {
   "cell_type": "code",
   "execution_count": null,
   "metadata": {},
   "outputs": [],
   "source": [
    "df.drop([i for i in range(0,999)],axis=1).columns"
   ]
  },
  {
   "cell_type": "code",
   "execution_count": null,
   "metadata": {},
   "outputs": [],
   "source": [
    "allData = pd.DataFrame()\n",
    "\n",
    "for XX in [XX1,XX2,XX3,XX4]:\n",
    "    user_features = XX.groupby('user')['item'].agg(\n",
    "        mean_item_id='mean',\n",
    "        median_item_id='median',\n",
    "        item_id_variance='var',\n",
    "        item_id_std_dev='std',\n",
    "        item_id_range=lambda x: x.max() - x.min(),\n",
    "        skewness=skew,\n",
    "        kurtosis=kurtosis,\n",
    "        interaction_polarity=lambda x: x.mean() - x.median(),\n",
    "        mean_difference=lambda x: x.diff().mean(),\n",
    "        max_difference=lambda x: x.diff().max()\n",
    "    ).reset_index()\n",
    "    \n",
    "    user_features = user_features.sort_values(by='user')\n",
    "    user_features.index = user_features['user']\n",
    "\n",
    "    user_features[\"IQR7525\"] = XX.groupby('user')['rating'].apply(lambda x: x.quantile(0.75) - x.quantile(0.25))\n",
    "    user_features[\"IQR8020\"] = XX.groupby('user')['rating'].apply(lambda x: x.quantile(0.80) - x.quantile(0.20))\n",
    "\n",
    "    user_features[\"rating_entropy\"] = XX.groupby('user')['rating'].apply(lambda x: entropy(x.value_counts(normalize=True)))\n",
    "    allData = pd.concat([allData,user_features])"
   ]
  },
  {
   "cell_type": "code",
   "execution_count": null,
   "metadata": {},
   "outputs": [],
   "source": [
    "labels2.index = labels2.user\n",
    "labels3.index = labels3.user\n",
    "labels4.index = labels4.user"
   ]
  },
  {
   "cell_type": "code",
   "execution_count": null,
   "metadata": {},
   "outputs": [],
   "source": [
    "labels = pd.concat([labels1,labels2,labels3,labels4])\n",
    "labels.index = labels.user\n",
    "labels = list(labels['label'])"
   ]
  },
  {
   "cell_type": "code",
   "execution_count": null,
   "metadata": {},
   "outputs": [],
   "source": [
    "allData['label'] = labels\n",
    "allData"
   ]
  },
  {
   "cell_type": "code",
   "execution_count": null,
   "metadata": {},
   "outputs": [],
   "source": [
    "allData.to_csv(\"./csv_files/perfect_feat_all.csv\")"
   ]
  },
  {
   "cell_type": "code",
   "execution_count": null,
   "metadata": {},
   "outputs": [],
   "source": [
    "data = np.load(\"fifth_batch_likes.npz\")"
   ]
  },
  {
   "cell_type": "code",
   "execution_count": null,
   "metadata": {},
   "outputs": [],
   "source": [
    "XX, label = eD.simpleDataRetrieval(data)"
   ]
  },
  {
   "cell_type": "code",
   "execution_count": null,
   "metadata": {},
   "outputs": [],
   "source": [
    "XX"
   ]
  },
  {
   "cell_type": "code",
   "execution_count": null,
   "metadata": {},
   "outputs": [],
   "source": [
    "user_features = XX.groupby('user')['item'].agg(\n",
    "        mean_item_id='mean',\n",
    "        median_item_id='median',\n",
    "        item_id_variance='var',\n",
    "        item_id_std_dev='std',\n",
    "        item_id_range=lambda x: x.max() - x.min(),\n",
    "        skewness=skew,\n",
    "        kurtosis=kurtosis,\n",
    "        interaction_polarity=lambda x: x.mean() - x.median(),\n",
    "        mean_difference=lambda x: x.diff().mean(),\n",
    "        max_difference=lambda x: x.diff().max()\n",
    "    ).reset_index()\n",
    "user_features.index = user_features['user']\n",
    "user_features[\"IQR7525\"] = XX.groupby('user')['rating'].apply(lambda x: x.quantile(0.75) - x.quantile(0.25))\n",
    "user_features[\"IQR8020\"] = XX.groupby('user')['rating'].apply(lambda x: x.quantile(0.80) - x.quantile(0.20))\n",
    "\n",
    "user_features[\"rating_entropy\"] = XX.groupby('user')['rating'].apply(lambda x: entropy(x.value_counts(normalize=True)))"
   ]
  },
  {
   "cell_type": "code",
   "execution_count": null,
   "metadata": {},
   "outputs": [],
   "source": [
    "user_features"
   ]
  },
  {
   "cell_type": "code",
   "execution_count": null,
   "metadata": {},
   "outputs": [],
   "source": [
    "user_features.to_csv(\"./csv_files/perfect_feat_fifth.csv\")"
   ]
  },
  {
   "cell_type": "code",
   "execution_count": null,
   "metadata": {},
   "outputs": [],
   "source": []
  }
 ],
 "metadata": {
  "kernelspec": {
   "display_name": "cs421",
   "language": "python",
   "name": "python3"
  },
  "language_info": {
   "codemirror_mode": {
    "name": "ipython",
    "version": 3
   },
   "file_extension": ".py",
   "mimetype": "text/x-python",
   "name": "python",
   "nbconvert_exporter": "python",
   "pygments_lexer": "ipython3",
   "version": "3.10.13"
  }
 },
 "nbformat": 4,
 "nbformat_minor": 2
}
