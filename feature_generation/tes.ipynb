{
 "cells": [
  {
   "cell_type": "code",
   "execution_count": null,
   "metadata": {},
   "outputs": [],
   "source": [
    "from datasetStuff import expandDataset"
   ]
  },
  {
   "cell_type": "code",
   "execution_count": null,
   "metadata": {},
   "outputs": [],
   "source": [
    "data1 = np.load(\"first_batch_with_labels_likes.npz\")\n",
    "# data2 = np.load(\"second_batch_with_labels_likes.npz\")\n",
    "# data3 = np.load(\"third_batch_with_labels_likes.npz\")\n",
    "# data4 = np.load(\"fourth_batch_with_labels_likes.npz\")"
   ]
  },
  {
   "cell_type": "code",
   "execution_count": null,
   "metadata": {},
   "outputs": [],
   "source": [
    "eD = expandDataset(data1)\n",
    "\n",
    "XX1, labels1 = eD.simpleDataRetrieval(data1)\n",
    "XX2, labels2 = eD.simpleDataRetrieval(data2)\n",
    "XX3, labels3 = eD.simpleDataRetrieval(data3)\n",
    "XX4, labels4 = eD.simpleDataRetrieval(data4)"
   ]
  },
  {
   "cell_type": "code",
   "execution_count": null,
   "metadata": {},
   "outputs": [],
   "source": [
    "df = expandDataset(data1, True).getDataset()"
   ]
  },
  {
   "cell_type": "code",
   "execution_count": null,
   "metadata": {},
   "outputs": [],
   "source": [
    "df.drop([i for i in range(0,999)],axis=1).columns"
   ]
  },
  {
   "cell_type": "code",
   "execution_count": null,
   "metadata": {},
   "outputs": [],
   "source": [
    "allData = pd.DataFrame()\n",
    "\n",
    "for XX in [XX1,XX2,XX3,XX4]:\n",
    "    user_features = XX.groupby('user')['item'].agg(\n",
    "        mean_item_id='mean',\n",
    "        median_item_id='median',\n",
    "        item_id_variance='var',\n",
    "        item_id_std_dev='std',\n",
    "        item_id_range=lambda x: x.max() - x.min(),\n",
    "        skewness=skew,\n",
    "        kurtosis=kurtosis,\n",
    "        interaction_polarity=lambda x: x.mean() - x.median(),\n",
    "        mean_difference=lambda x: x.diff().mean(),\n",
    "        max_difference=lambda x: x.diff().max()\n",
    "    ).reset_index()\n",
    "    \n",
    "    user_features = user_features.sort_values(by='user')\n",
    "    user_features.index = user_features['user']\n",
    "\n",
    "    user_features[\"IQR7525\"] = XX.groupby('user')['rating'].apply(lambda x: x.quantile(0.75) - x.quantile(0.25))\n",
    "    user_features[\"IQR8020\"] = XX.groupby('user')['rating'].apply(lambda x: x.quantile(0.80) - x.quantile(0.20))\n",
    "\n",
    "    user_features[\"rating_entropy\"] = XX.groupby('user')['rating'].apply(lambda x: entropy(x.value_counts(normalize=True)))\n",
    "    allData = pd.concat([allData,user_features])"
   ]
  },
  {
   "cell_type": "code",
   "execution_count": null,
   "metadata": {},
   "outputs": [],
   "source": [
    "labels2.index = labels2.user\n",
    "labels3.index = labels3.user\n",
    "labels4.index = labels4.user"
   ]
  },
  {
   "cell_type": "code",
   "execution_count": null,
   "metadata": {},
   "outputs": [],
   "source": [
    "labels = pd.concat([labels1,labels2,labels3,labels4])\n",
    "labels.index = labels.user\n",
    "labels = list(labels['label'])"
   ]
  },
  {
   "cell_type": "code",
   "execution_count": null,
   "metadata": {},
   "outputs": [],
   "source": [
    "allData['label'] = labels\n",
    "allData"
   ]
  },
  {
   "cell_type": "code",
   "execution_count": null,
   "metadata": {},
   "outputs": [],
   "source": [
    "allData.to_csv(\"./csv_files/perfect_feat_all.csv\")"
   ]
  },
  {
   "cell_type": "code",
   "execution_count": null,
   "metadata": {},
   "outputs": [],
   "source": [
    "data = np.load(\"fifth_batch_likes.npz\")"
   ]
  },
  {
   "cell_type": "code",
   "execution_count": null,
   "metadata": {},
   "outputs": [],
   "source": [
    "XX, label = eD.simpleDataRetrieval(data)"
   ]
  },
  {
   "cell_type": "code",
   "execution_count": null,
   "metadata": {},
   "outputs": [],
   "source": [
    "XX"
   ]
  },
  {
   "cell_type": "code",
   "execution_count": null,
   "metadata": {},
   "outputs": [],
   "source": [
    "user_features = XX.groupby('user')['item'].agg(\n",
    "        mean_item_id='mean',\n",
    "        median_item_id='median',\n",
    "        item_id_variance='var',\n",
    "        item_id_std_dev='std',\n",
    "        item_id_range=lambda x: x.max() - x.min(),\n",
    "        skewness=skew,\n",
    "        kurtosis=kurtosis,\n",
    "        interaction_polarity=lambda x: x.mean() - x.median(),\n",
    "        mean_difference=lambda x: x.diff().mean(),\n",
    "        max_difference=lambda x: x.diff().max()\n",
    "    ).reset_index()\n",
    "user_features.index = user_features['user']\n",
    "user_features[\"IQR7525\"] = XX.groupby('user')['rating'].apply(lambda x: x.quantile(0.75) - x.quantile(0.25))\n",
    "user_features[\"IQR8020\"] = XX.groupby('user')['rating'].apply(lambda x: x.quantile(0.80) - x.quantile(0.20))\n",
    "\n",
    "user_features[\"rating_entropy\"] = XX.groupby('user')['rating'].apply(lambda x: entropy(x.value_counts(normalize=True)))"
   ]
  },
  {
   "cell_type": "code",
   "execution_count": null,
   "metadata": {},
   "outputs": [],
   "source": [
    "user_features"
   ]
  },
  {
   "cell_type": "code",
   "execution_count": null,
   "metadata": {},
   "outputs": [],
   "source": [
    "user_features.to_csv(\"./csv_files/perfect_feat_fifth.csv\")"
   ]
  },
  {
   "cell_type": "code",
   "execution_count": null,
   "metadata": {},
   "outputs": [],
   "source": []
  }
 ],
 "metadata": {
  "kernelspec": {
   "display_name": "cs421",
   "language": "python",
   "name": "python3"
  },
  "language_info": {
   "codemirror_mode": {
    "name": "ipython",
    "version": 3
   },
   "file_extension": ".py",
   "mimetype": "text/x-python",
   "name": "python",
   "nbconvert_exporter": "python",
   "pygments_lexer": "ipython3",
   "version": "3.10.13"
  }
 },
 "nbformat": 4,
 "nbformat_minor": 2
}
